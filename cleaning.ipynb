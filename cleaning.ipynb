{
  "nbformat": 4,
  "nbformat_minor": 0,
  "metadata": {
    "colab": {
      "provenance": [],
      "mount_file_id": "1ZOahpwEk1Niz-PGwtkFFu1jTVpAnrtPX",
      "authorship_tag": "ABX9TyO7YC3uoAmtiNoqr0TNJJ2+",
      "include_colab_link": true
    },
    "kernelspec": {
      "name": "python3",
      "display_name": "Python 3"
    },
    "language_info": {
      "name": "python"
    }
  },
  "cells": [
    {
      "cell_type": "markdown",
      "metadata": {
        "id": "view-in-github",
        "colab_type": "text"
      },
      "source": [
        "<a href=\"https://colab.research.google.com/github/vaibhavO1/Web_Scraping_91Mobiles/blob/master/cleaning.ipynb\" target=\"_parent\"><img src=\"https://colab.research.google.com/assets/colab-badge.svg\" alt=\"Open In Colab\"/></a>"
      ]
    },
    {
      "cell_type": "code",
      "execution_count": 1,
      "metadata": {
        "id": "79erbSXnEnah"
      },
      "outputs": [],
      "source": [
        "import numpy as np\n",
        "import pandas as pd\n",
        "import re"
      ]
    },
    {
      "cell_type": "code",
      "source": [
        "df = pd.read_csv('/content/drive/MyDrive/pro/91_mobiles_uncleaned.csv')"
      ],
      "metadata": {
        "id": "m0g12oskEyCH"
      },
      "execution_count": 2,
      "outputs": []
    },
    {
      "cell_type": "code",
      "source": [
        "os_name = df['Operating_System'].str.split().str.get(0)"
      ],
      "metadata": {
        "id": "hhiwbBcdkfSx"
      },
      "execution_count": 239,
      "outputs": []
    },
    {
      "cell_type": "code",
      "source": [
        "df.insert(3,'OS',os_name)"
      ],
      "metadata": {
        "id": "6ioL0l5ok5KP"
      },
      "execution_count": 241,
      "outputs": []
    },
    {
      "cell_type": "code",
      "source": [
        "def osname(name):\n",
        "  if name in ['Android','iOS','Windows','HarmonyOS','Symbian','Bada']:\n",
        "    return name\n",
        "  elif name in ['BlackBerry','Blackberry']:\n",
        "    return 'BlackBerry'\n",
        "  else:\n",
        "    return 'Other'"
      ],
      "metadata": {
        "id": "H6IgACnwlPNb"
      },
      "execution_count": 244,
      "outputs": []
    },
    {
      "cell_type": "code",
      "source": [
        "df['OS'] = df['OS'].apply(osname)"
      ],
      "metadata": {
        "id": "zUK8-wDglKPw"
      },
      "execution_count": 248,
      "outputs": []
    },
    {
      "cell_type": "code",
      "source": [
        "df.sample(10)"
      ],
      "metadata": {
        "colab": {
          "base_uri": "https://localhost:8080/",
          "height": 744
        },
        "id": "jOBt4BAWFie4",
        "outputId": "8f672240-3eec-4fd1-ade8-980550b8de0b"
      },
      "execution_count": 347,
      "outputs": [
        {
          "output_type": "execute_result",
          "data": {
            "text/plain": [
              "      Mobile_Brand                             Mobile Spec_Score       OS  \\\n",
              "7426        Huawei                    Huawei Enjoy 7S        70%  Android   \n",
              "5837          OPPO                    OPPO Find X5 5G        88%  Android   \n",
              "12540   Blackberry           Blackberry Pearl 3G 9100        NaN    Other   \n",
              "7337       Alcatel                         Alcatel 3C        NaN  Android   \n",
              "3723          Asus              Asus Zenfone 4 Selfie        70%  Android   \n",
              "2542       Samsung          Samsung Galaxy M30s 128GB        80%  Android   \n",
              "2028          iQOO                        iQOO 12 Pro        97%  Android   \n",
              "7935         Clout                   Clout X417 Amaze        NaN  Android   \n",
              "473           vivo                      vivo Y11 2019        69%  Android   \n",
              "3260       Samsung  Samsung Galaxy Note 10 Plus 512GB        89%  Android   \n",
              "\n",
              "                                       Operating_System      Price  \\\n",
              "7426                                Android v8.0 (Oreo)  Rs.15,490   \n",
              "5837                     Android v12, upgradable to v14  Rs.84,490   \n",
              "12540                                 Yes Blackberry OS   Rs.7,500   \n",
              "7337                              Android v7.0 (Nougat)   Rs.8,999   \n",
              "3723   Android v7.0 (Nougat), upgradable to v8.1 (Oreo)  Rs.15,999   \n",
              "2542          Android v9.0 (Pie), upgradable to v10 (Q)  Rs.16,999   \n",
              "2028                                        Android v14  Rs.58,090   \n",
              "7935                              Android v7.0 (Nougat)   Rs.3,999   \n",
              "473                                  Android v9.0 (Pie)   Rs.9,450   \n",
              "3260                                 Android v9.0 (Pie)  Rs.97,839   \n",
              "\n",
              "       Price_in_Rs                                    Per_Dis_Cam_Bat  \\\n",
              "7426       15490.0  [Performance            Octa core (2.36 GHz, Q...   \n",
              "5837       84490.0  [Performance            Octa core (2.84 GHz, S...   \n",
              "12540       7500.0  [Performance624 MHzDisplay2.2 inches (5.59 cm)...   \n",
              "7337        8999.0  [PerformanceQuad Core, 1.3 GHzMediaTek MT83211...   \n",
              "3723       15999.0  [Performance            Octa Core, 1.4 GHzSnap...   \n",
              "2542       16999.0  [Performance            Octa core (2.3 GHz, Qu...   \n",
              "2028       58090.0  [Performance            Octa core (3.3 GHz, Si...   \n",
              "7935        3999.0  [PerformanceQuad Core, 1.3 GHz1 GB RAMDisplay5...   \n",
              "473         9450.0  [Performance            Octa core (1.95 GHz, Q...   \n",
              "3260       97839.0  [Performance            Octa core (2.73 GHz, D...   \n",
              "\n",
              "                                          Other_Features  \\\n",
              "7426   32 GB + 256 GB ExpandableDual SIM: Nano + Nano...   \n",
              "5837   128 GB, Non ExpandableDual SIM: Nano + eSIMSup...   \n",
              "12540  256 MB + 32 GB ExpandableNot Supported in Indi...   \n",
              "7337   16 GB + 128 GB ExpandableDual SIM: Micro + Mic...   \n",
              "3723   64 GB + 2 TB ExpandableDual SIM: Nano + NanoNo...   \n",
              "2542   Wi-Fi Calling128 GB + 512 GB ExpandableDual SI...   \n",
              "2028   256 GB, Non ExpandableDual SIM: Nano + NanoSup...   \n",
              "7935   8 GB + 32 GB ExpandableDual SIMNot Supported i...   \n",
              "473    32 GB + 256 GB ExpandableDual SIM: Nano + Nano...   \n",
              "3260   Wi-Fi Calling512 GB + 1 TB ExpandableDual SIM:...   \n",
              "\n",
              "                                                 P_D_C_B  \n",
              "7426   Performance            Octa core (2.36 GHz, Qu...  \n",
              "5837   Performance            Octa core (2.84 GHz, Si...  \n",
              "12540  Performance624 MHzDisplay2.2 inches (5.59 cm)2...  \n",
              "7337   PerformanceQuad Core, 1.3 GHzMediaTek MT83211 ...  \n",
              "3723   Performance            Octa Core, 1.4 GHzSnapd...  \n",
              "2542   Performance            Octa core (2.3 GHz, Qua...  \n",
              "2028   Performance            Octa core (3.3 GHz, Sin...  \n",
              "7935   PerformanceQuad Core, 1.3 GHz1 GB RAMDisplay5....  \n",
              "473    Performance            Octa core (1.95 GHz, Qu...  \n",
              "3260   Performance            Octa core (2.73 GHz, Du...  "
            ],
            "text/html": [
              "\n",
              "  <div id=\"df-21977485-4eb6-4c21-b9df-6c20af2359e0\" class=\"colab-df-container\">\n",
              "    <div>\n",
              "<style scoped>\n",
              "    .dataframe tbody tr th:only-of-type {\n",
              "        vertical-align: middle;\n",
              "    }\n",
              "\n",
              "    .dataframe tbody tr th {\n",
              "        vertical-align: top;\n",
              "    }\n",
              "\n",
              "    .dataframe thead th {\n",
              "        text-align: right;\n",
              "    }\n",
              "</style>\n",
              "<table border=\"1\" class=\"dataframe\">\n",
              "  <thead>\n",
              "    <tr style=\"text-align: right;\">\n",
              "      <th></th>\n",
              "      <th>Mobile_Brand</th>\n",
              "      <th>Mobile</th>\n",
              "      <th>Spec_Score</th>\n",
              "      <th>OS</th>\n",
              "      <th>Operating_System</th>\n",
              "      <th>Price</th>\n",
              "      <th>Price_in_Rs</th>\n",
              "      <th>Per_Dis_Cam_Bat</th>\n",
              "      <th>Other_Features</th>\n",
              "      <th>P_D_C_B</th>\n",
              "    </tr>\n",
              "  </thead>\n",
              "  <tbody>\n",
              "    <tr>\n",
              "      <th>7426</th>\n",
              "      <td>Huawei</td>\n",
              "      <td>Huawei Enjoy 7S</td>\n",
              "      <td>70%</td>\n",
              "      <td>Android</td>\n",
              "      <td>Android v8.0 (Oreo)</td>\n",
              "      <td>Rs.15,490</td>\n",
              "      <td>15490.0</td>\n",
              "      <td>[Performance            Octa core (2.36 GHz, Q...</td>\n",
              "      <td>32 GB + 256 GB ExpandableDual SIM: Nano + Nano...</td>\n",
              "      <td>Performance            Octa core (2.36 GHz, Qu...</td>\n",
              "    </tr>\n",
              "    <tr>\n",
              "      <th>5837</th>\n",
              "      <td>OPPO</td>\n",
              "      <td>OPPO Find X5 5G</td>\n",
              "      <td>88%</td>\n",
              "      <td>Android</td>\n",
              "      <td>Android v12, upgradable to v14</td>\n",
              "      <td>Rs.84,490</td>\n",
              "      <td>84490.0</td>\n",
              "      <td>[Performance            Octa core (2.84 GHz, S...</td>\n",
              "      <td>128 GB, Non ExpandableDual SIM: Nano + eSIMSup...</td>\n",
              "      <td>Performance            Octa core (2.84 GHz, Si...</td>\n",
              "    </tr>\n",
              "    <tr>\n",
              "      <th>12540</th>\n",
              "      <td>Blackberry</td>\n",
              "      <td>Blackberry Pearl 3G 9100</td>\n",
              "      <td>NaN</td>\n",
              "      <td>Other</td>\n",
              "      <td>Yes Blackberry OS</td>\n",
              "      <td>Rs.7,500</td>\n",
              "      <td>7500.0</td>\n",
              "      <td>[Performance624 MHzDisplay2.2 inches (5.59 cm)...</td>\n",
              "      <td>256 MB + 32 GB ExpandableNot Supported in Indi...</td>\n",
              "      <td>Performance624 MHzDisplay2.2 inches (5.59 cm)2...</td>\n",
              "    </tr>\n",
              "    <tr>\n",
              "      <th>7337</th>\n",
              "      <td>Alcatel</td>\n",
              "      <td>Alcatel 3C</td>\n",
              "      <td>NaN</td>\n",
              "      <td>Android</td>\n",
              "      <td>Android v7.0 (Nougat)</td>\n",
              "      <td>Rs.8,999</td>\n",
              "      <td>8999.0</td>\n",
              "      <td>[PerformanceQuad Core, 1.3 GHzMediaTek MT83211...</td>\n",
              "      <td>16 GB + 128 GB ExpandableDual SIM: Micro + Mic...</td>\n",
              "      <td>PerformanceQuad Core, 1.3 GHzMediaTek MT83211 ...</td>\n",
              "    </tr>\n",
              "    <tr>\n",
              "      <th>3723</th>\n",
              "      <td>Asus</td>\n",
              "      <td>Asus Zenfone 4 Selfie</td>\n",
              "      <td>70%</td>\n",
              "      <td>Android</td>\n",
              "      <td>Android v7.0 (Nougat), upgradable to v8.1 (Oreo)</td>\n",
              "      <td>Rs.15,999</td>\n",
              "      <td>15999.0</td>\n",
              "      <td>[Performance            Octa Core, 1.4 GHzSnap...</td>\n",
              "      <td>64 GB + 2 TB ExpandableDual SIM: Nano + NanoNo...</td>\n",
              "      <td>Performance            Octa Core, 1.4 GHzSnapd...</td>\n",
              "    </tr>\n",
              "    <tr>\n",
              "      <th>2542</th>\n",
              "      <td>Samsung</td>\n",
              "      <td>Samsung Galaxy M30s 128GB</td>\n",
              "      <td>80%</td>\n",
              "      <td>Android</td>\n",
              "      <td>Android v9.0 (Pie), upgradable to v10 (Q)</td>\n",
              "      <td>Rs.16,999</td>\n",
              "      <td>16999.0</td>\n",
              "      <td>[Performance            Octa core (2.3 GHz, Qu...</td>\n",
              "      <td>Wi-Fi Calling128 GB + 512 GB ExpandableDual SI...</td>\n",
              "      <td>Performance            Octa core (2.3 GHz, Qua...</td>\n",
              "    </tr>\n",
              "    <tr>\n",
              "      <th>2028</th>\n",
              "      <td>iQOO</td>\n",
              "      <td>iQOO 12 Pro</td>\n",
              "      <td>97%</td>\n",
              "      <td>Android</td>\n",
              "      <td>Android v14</td>\n",
              "      <td>Rs.58,090</td>\n",
              "      <td>58090.0</td>\n",
              "      <td>[Performance            Octa core (3.3 GHz, Si...</td>\n",
              "      <td>256 GB, Non ExpandableDual SIM: Nano + NanoSup...</td>\n",
              "      <td>Performance            Octa core (3.3 GHz, Sin...</td>\n",
              "    </tr>\n",
              "    <tr>\n",
              "      <th>7935</th>\n",
              "      <td>Clout</td>\n",
              "      <td>Clout X417 Amaze</td>\n",
              "      <td>NaN</td>\n",
              "      <td>Android</td>\n",
              "      <td>Android v7.0 (Nougat)</td>\n",
              "      <td>Rs.3,999</td>\n",
              "      <td>3999.0</td>\n",
              "      <td>[PerformanceQuad Core, 1.3 GHz1 GB RAMDisplay5...</td>\n",
              "      <td>8 GB + 32 GB ExpandableDual SIMNot Supported i...</td>\n",
              "      <td>PerformanceQuad Core, 1.3 GHz1 GB RAMDisplay5....</td>\n",
              "    </tr>\n",
              "    <tr>\n",
              "      <th>473</th>\n",
              "      <td>vivo</td>\n",
              "      <td>vivo Y11 2019</td>\n",
              "      <td>69%</td>\n",
              "      <td>Android</td>\n",
              "      <td>Android v9.0 (Pie)</td>\n",
              "      <td>Rs.9,450</td>\n",
              "      <td>9450.0</td>\n",
              "      <td>[Performance            Octa core (1.95 GHz, Q...</td>\n",
              "      <td>32 GB + 256 GB ExpandableDual SIM: Nano + Nano...</td>\n",
              "      <td>Performance            Octa core (1.95 GHz, Qu...</td>\n",
              "    </tr>\n",
              "    <tr>\n",
              "      <th>3260</th>\n",
              "      <td>Samsung</td>\n",
              "      <td>Samsung Galaxy Note 10 Plus 512GB</td>\n",
              "      <td>89%</td>\n",
              "      <td>Android</td>\n",
              "      <td>Android v9.0 (Pie)</td>\n",
              "      <td>Rs.97,839</td>\n",
              "      <td>97839.0</td>\n",
              "      <td>[Performance            Octa core (2.73 GHz, D...</td>\n",
              "      <td>Wi-Fi Calling512 GB + 1 TB ExpandableDual SIM:...</td>\n",
              "      <td>Performance            Octa core (2.73 GHz, Du...</td>\n",
              "    </tr>\n",
              "  </tbody>\n",
              "</table>\n",
              "</div>\n",
              "    <div class=\"colab-df-buttons\">\n",
              "\n",
              "  <div class=\"colab-df-container\">\n",
              "    <button class=\"colab-df-convert\" onclick=\"convertToInteractive('df-21977485-4eb6-4c21-b9df-6c20af2359e0')\"\n",
              "            title=\"Convert this dataframe to an interactive table.\"\n",
              "            style=\"display:none;\">\n",
              "\n",
              "  <svg xmlns=\"http://www.w3.org/2000/svg\" height=\"24px\" viewBox=\"0 -960 960 960\">\n",
              "    <path d=\"M120-120v-720h720v720H120Zm60-500h600v-160H180v160Zm220 220h160v-160H400v160Zm0 220h160v-160H400v160ZM180-400h160v-160H180v160Zm440 0h160v-160H620v160ZM180-180h160v-160H180v160Zm440 0h160v-160H620v160Z\"/>\n",
              "  </svg>\n",
              "    </button>\n",
              "\n",
              "  <style>\n",
              "    .colab-df-container {\n",
              "      display:flex;\n",
              "      gap: 12px;\n",
              "    }\n",
              "\n",
              "    .colab-df-convert {\n",
              "      background-color: #E8F0FE;\n",
              "      border: none;\n",
              "      border-radius: 50%;\n",
              "      cursor: pointer;\n",
              "      display: none;\n",
              "      fill: #1967D2;\n",
              "      height: 32px;\n",
              "      padding: 0 0 0 0;\n",
              "      width: 32px;\n",
              "    }\n",
              "\n",
              "    .colab-df-convert:hover {\n",
              "      background-color: #E2EBFA;\n",
              "      box-shadow: 0px 1px 2px rgba(60, 64, 67, 0.3), 0px 1px 3px 1px rgba(60, 64, 67, 0.15);\n",
              "      fill: #174EA6;\n",
              "    }\n",
              "\n",
              "    .colab-df-buttons div {\n",
              "      margin-bottom: 4px;\n",
              "    }\n",
              "\n",
              "    [theme=dark] .colab-df-convert {\n",
              "      background-color: #3B4455;\n",
              "      fill: #D2E3FC;\n",
              "    }\n",
              "\n",
              "    [theme=dark] .colab-df-convert:hover {\n",
              "      background-color: #434B5C;\n",
              "      box-shadow: 0px 1px 3px 1px rgba(0, 0, 0, 0.15);\n",
              "      filter: drop-shadow(0px 1px 2px rgba(0, 0, 0, 0.3));\n",
              "      fill: #FFFFFF;\n",
              "    }\n",
              "  </style>\n",
              "\n",
              "    <script>\n",
              "      const buttonEl =\n",
              "        document.querySelector('#df-21977485-4eb6-4c21-b9df-6c20af2359e0 button.colab-df-convert');\n",
              "      buttonEl.style.display =\n",
              "        google.colab.kernel.accessAllowed ? 'block' : 'none';\n",
              "\n",
              "      async function convertToInteractive(key) {\n",
              "        const element = document.querySelector('#df-21977485-4eb6-4c21-b9df-6c20af2359e0');\n",
              "        const dataTable =\n",
              "          await google.colab.kernel.invokeFunction('convertToInteractive',\n",
              "                                                    [key], {});\n",
              "        if (!dataTable) return;\n",
              "\n",
              "        const docLinkHtml = 'Like what you see? Visit the ' +\n",
              "          '<a target=\"_blank\" href=https://colab.research.google.com/notebooks/data_table.ipynb>data table notebook</a>'\n",
              "          + ' to learn more about interactive tables.';\n",
              "        element.innerHTML = '';\n",
              "        dataTable['output_type'] = 'display_data';\n",
              "        await google.colab.output.renderOutput(dataTable, element);\n",
              "        const docLink = document.createElement('div');\n",
              "        docLink.innerHTML = docLinkHtml;\n",
              "        element.appendChild(docLink);\n",
              "      }\n",
              "    </script>\n",
              "  </div>\n",
              "\n",
              "\n",
              "<div id=\"df-b13325cd-d1b0-481b-aafd-8431b455917b\">\n",
              "  <button class=\"colab-df-quickchart\" onclick=\"quickchart('df-b13325cd-d1b0-481b-aafd-8431b455917b')\"\n",
              "            title=\"Suggest charts\"\n",
              "            style=\"display:none;\">\n",
              "\n",
              "<svg xmlns=\"http://www.w3.org/2000/svg\" height=\"24px\"viewBox=\"0 0 24 24\"\n",
              "     width=\"24px\">\n",
              "    <g>\n",
              "        <path d=\"M19 3H5c-1.1 0-2 .9-2 2v14c0 1.1.9 2 2 2h14c1.1 0 2-.9 2-2V5c0-1.1-.9-2-2-2zM9 17H7v-7h2v7zm4 0h-2V7h2v10zm4 0h-2v-4h2v4z\"/>\n",
              "    </g>\n",
              "</svg>\n",
              "  </button>\n",
              "\n",
              "<style>\n",
              "  .colab-df-quickchart {\n",
              "      --bg-color: #E8F0FE;\n",
              "      --fill-color: #1967D2;\n",
              "      --hover-bg-color: #E2EBFA;\n",
              "      --hover-fill-color: #174EA6;\n",
              "      --disabled-fill-color: #AAA;\n",
              "      --disabled-bg-color: #DDD;\n",
              "  }\n",
              "\n",
              "  [theme=dark] .colab-df-quickchart {\n",
              "      --bg-color: #3B4455;\n",
              "      --fill-color: #D2E3FC;\n",
              "      --hover-bg-color: #434B5C;\n",
              "      --hover-fill-color: #FFFFFF;\n",
              "      --disabled-bg-color: #3B4455;\n",
              "      --disabled-fill-color: #666;\n",
              "  }\n",
              "\n",
              "  .colab-df-quickchart {\n",
              "    background-color: var(--bg-color);\n",
              "    border: none;\n",
              "    border-radius: 50%;\n",
              "    cursor: pointer;\n",
              "    display: none;\n",
              "    fill: var(--fill-color);\n",
              "    height: 32px;\n",
              "    padding: 0;\n",
              "    width: 32px;\n",
              "  }\n",
              "\n",
              "  .colab-df-quickchart:hover {\n",
              "    background-color: var(--hover-bg-color);\n",
              "    box-shadow: 0 1px 2px rgba(60, 64, 67, 0.3), 0 1px 3px 1px rgba(60, 64, 67, 0.15);\n",
              "    fill: var(--button-hover-fill-color);\n",
              "  }\n",
              "\n",
              "  .colab-df-quickchart-complete:disabled,\n",
              "  .colab-df-quickchart-complete:disabled:hover {\n",
              "    background-color: var(--disabled-bg-color);\n",
              "    fill: var(--disabled-fill-color);\n",
              "    box-shadow: none;\n",
              "  }\n",
              "\n",
              "  .colab-df-spinner {\n",
              "    border: 2px solid var(--fill-color);\n",
              "    border-color: transparent;\n",
              "    border-bottom-color: var(--fill-color);\n",
              "    animation:\n",
              "      spin 1s steps(1) infinite;\n",
              "  }\n",
              "\n",
              "  @keyframes spin {\n",
              "    0% {\n",
              "      border-color: transparent;\n",
              "      border-bottom-color: var(--fill-color);\n",
              "      border-left-color: var(--fill-color);\n",
              "    }\n",
              "    20% {\n",
              "      border-color: transparent;\n",
              "      border-left-color: var(--fill-color);\n",
              "      border-top-color: var(--fill-color);\n",
              "    }\n",
              "    30% {\n",
              "      border-color: transparent;\n",
              "      border-left-color: var(--fill-color);\n",
              "      border-top-color: var(--fill-color);\n",
              "      border-right-color: var(--fill-color);\n",
              "    }\n",
              "    40% {\n",
              "      border-color: transparent;\n",
              "      border-right-color: var(--fill-color);\n",
              "      border-top-color: var(--fill-color);\n",
              "    }\n",
              "    60% {\n",
              "      border-color: transparent;\n",
              "      border-right-color: var(--fill-color);\n",
              "    }\n",
              "    80% {\n",
              "      border-color: transparent;\n",
              "      border-right-color: var(--fill-color);\n",
              "      border-bottom-color: var(--fill-color);\n",
              "    }\n",
              "    90% {\n",
              "      border-color: transparent;\n",
              "      border-bottom-color: var(--fill-color);\n",
              "    }\n",
              "  }\n",
              "</style>\n",
              "\n",
              "  <script>\n",
              "    async function quickchart(key) {\n",
              "      const quickchartButtonEl =\n",
              "        document.querySelector('#' + key + ' button');\n",
              "      quickchartButtonEl.disabled = true;  // To prevent multiple clicks.\n",
              "      quickchartButtonEl.classList.add('colab-df-spinner');\n",
              "      try {\n",
              "        const charts = await google.colab.kernel.invokeFunction(\n",
              "            'suggestCharts', [key], {});\n",
              "      } catch (error) {\n",
              "        console.error('Error during call to suggestCharts:', error);\n",
              "      }\n",
              "      quickchartButtonEl.classList.remove('colab-df-spinner');\n",
              "      quickchartButtonEl.classList.add('colab-df-quickchart-complete');\n",
              "    }\n",
              "    (() => {\n",
              "      let quickchartButtonEl =\n",
              "        document.querySelector('#df-b13325cd-d1b0-481b-aafd-8431b455917b button');\n",
              "      quickchartButtonEl.style.display =\n",
              "        google.colab.kernel.accessAllowed ? 'block' : 'none';\n",
              "    })();\n",
              "  </script>\n",
              "</div>\n",
              "\n",
              "    </div>\n",
              "  </div>\n"
            ],
            "application/vnd.google.colaboratory.intrinsic+json": {
              "type": "dataframe",
              "summary": "{\n  \"name\": \"df\",\n  \"rows\": 10,\n  \"fields\": [\n    {\n      \"column\": \"Mobile_Brand\",\n      \"properties\": {\n        \"dtype\": \"string\",\n        \"num_unique_values\": 9,\n        \"samples\": [\n          \"Clout\",\n          \"OPPO\",\n          \"Samsung\"\n        ],\n        \"semantic_type\": \"\",\n        \"description\": \"\"\n      }\n    },\n    {\n      \"column\": \"Mobile\",\n      \"properties\": {\n        \"dtype\": \"string\",\n        \"num_unique_values\": 10,\n        \"samples\": [\n          \"vivo Y11 2019\",\n          \"OPPO Find X5 5G\",\n          \"Samsung Galaxy M30s 128GB\"\n        ],\n        \"semantic_type\": \"\",\n        \"description\": \"\"\n      }\n    },\n    {\n      \"column\": \"Spec_Score\",\n      \"properties\": {\n        \"dtype\": \"string\",\n        \"num_unique_values\": 6,\n        \"samples\": [\n          \"70%\",\n          \"88%\",\n          \"89%\"\n        ],\n        \"semantic_type\": \"\",\n        \"description\": \"\"\n      }\n    },\n    {\n      \"column\": \"OS\",\n      \"properties\": {\n        \"dtype\": \"category\",\n        \"num_unique_values\": 2,\n        \"samples\": [\n          \"Other\",\n          \"Android\"\n        ],\n        \"semantic_type\": \"\",\n        \"description\": \"\"\n      }\n    },\n    {\n      \"column\": \"Operating_System\",\n      \"properties\": {\n        \"dtype\": \"string\",\n        \"num_unique_values\": 8,\n        \"samples\": [\n          \"Android v12, upgradable to v14\",\n          \"Android v9.0 (Pie), upgradable to v10 (Q)\"\n        ],\n        \"semantic_type\": \"\",\n        \"description\": \"\"\n      }\n    },\n    {\n      \"column\": \"Price\",\n      \"properties\": {\n        \"dtype\": \"string\",\n        \"num_unique_values\": 10,\n        \"samples\": [\n          \"Rs.9,450\",\n          \"Rs.84,490\"\n        ],\n        \"semantic_type\": \"\",\n        \"description\": \"\"\n      }\n    },\n    {\n      \"column\": \"Price_in_Rs\",\n      \"properties\": {\n        \"dtype\": \"number\",\n        \"std\": 34874.42173554837,\n        \"min\": 3999.0,\n        \"max\": 97839.0,\n        \"num_unique_values\": 10,\n        \"samples\": [\n          9450.0,\n          84490.0\n        ],\n        \"semantic_type\": \"\",\n        \"description\": \"\"\n      }\n    },\n    {\n      \"column\": \"Per_Dis_Cam_Bat\",\n      \"properties\": {\n        \"dtype\": \"object\",\n        \"semantic_type\": \"\",\n        \"description\": \"\"\n      }\n    },\n    {\n      \"column\": \"Other_Features\",\n      \"properties\": {\n        \"dtype\": \"string\",\n        \"num_unique_values\": 10,\n        \"samples\": [\n          \"32 GB + 256 GB ExpandableDual SIM: Nano + NanoNot Supported in IndiaVoLTESupported in IndiaFingerprint sensorUSB OTG Support\",\n          \"128 GB, Non ExpandableDual SIM: Nano + eSIMSupported in IndiaVoLTEFingerprint sensorGorilla GlassUSB OTG Support\"\n        ],\n        \"semantic_type\": \"\",\n        \"description\": \"\"\n      }\n    },\n    {\n      \"column\": \"P_D_C_B\",\n      \"properties\": {\n        \"dtype\": \"string\",\n        \"num_unique_values\": 10,\n        \"samples\": [\n          \"Performance            Octa core (1.95 GHz, Quad Core + 1.45 GHz, Quad core)Snapdragon 4393 GB RAMDisplay            6.35 inches (16.13 cm)HD+, IPS LCDCamera            13 MP + 2 MP Dual Primary CamerasLED Flash8 MP Front CameraBattery            5000 mAhNo Quick ChargingMicro-USB Port\",\n          \"Performance            Octa core (2.84 GHz, Single Core + 2.42 GHz, Tri core + 1.8 GHz, Quad core)Snapdragon 8888 GB RAMDisplay            6.55 inches (16.64 cm)FHD+, AMOLED120 Hz Refresh RateCamera            50 MP + 50 MP + 13 MP Triple Primary CamerasLED Flash32 MP Front CameraBattery            4800 mAhSuper Flash ChargingUSB Type-C Port\"\n        ],\n        \"semantic_type\": \"\",\n        \"description\": \"\"\n      }\n    }\n  ]\n}"
            }
          },
          "metadata": {},
          "execution_count": 347
        }
      ]
    },
    {
      "cell_type": "code",
      "source": [
        "df.info()"
      ],
      "metadata": {
        "colab": {
          "base_uri": "https://localhost:8080/"
        },
        "id": "sk7-f8D_Gi9I",
        "outputId": "00737b82-a1ca-423d-ddf6-c1ee5474b978"
      },
      "execution_count": 304,
      "outputs": [
        {
          "output_type": "stream",
          "name": "stdout",
          "text": [
            "<class 'pandas.core.frame.DataFrame'>\n",
            "Index: 9081 entries, 0 to 13136\n",
            "Data columns (total 9 columns):\n",
            " #   Column            Non-Null Count  Dtype  \n",
            "---  ------            --------------  -----  \n",
            " 0   Mobile_Brand      9081 non-null   object \n",
            " 1   Mobile            9081 non-null   object \n",
            " 2   Spec_Score        6410 non-null   object \n",
            " 3   OS                9081 non-null   object \n",
            " 4   Operating_System  9081 non-null   object \n",
            " 5   Price             9081 non-null   object \n",
            " 6   Price_in_Rs       9081 non-null   float64\n",
            " 7   Per_Dis_Cam_Bat   9081 non-null   object \n",
            " 8   Other_Features    9081 non-null   object \n",
            "dtypes: float64(1), object(8)\n",
            "memory usage: 967.5+ KB\n"
          ]
        }
      ]
    },
    {
      "cell_type": "code",
      "source": [
        "brand = df['Mobile'].str.split().str.get(0)"
      ],
      "metadata": {
        "id": "zI10JP-tRqRa"
      },
      "execution_count": 90,
      "outputs": []
    },
    {
      "cell_type": "code",
      "source": [
        "df.insert(0,'Mobile_Brand',brand)"
      ],
      "metadata": {
        "id": "4oZz4CFfR7Yp"
      },
      "execution_count": 91,
      "outputs": []
    },
    {
      "cell_type": "code",
      "source": [
        "df['Price_in_Rs'] = df['Price_in_Rs'].astype(float)"
      ],
      "metadata": {
        "id": "2X0xpLXsLpoe"
      },
      "execution_count": 9,
      "outputs": []
    },
    {
      "cell_type": "code",
      "source": [
        "price = df['Price'].str.findall(r'\\d{1,3}(?:,\\d{3})*').str.get(0).str.replace(',',\"\")\n",
        "df.insert(4,'Price_in_Rs',price)"
      ],
      "metadata": {
        "id": "fZDbFZzmFBvU"
      },
      "execution_count": 8,
      "outputs": []
    },
    {
      "cell_type": "code",
      "source": [
        "df.drop(index=[6069,12646,12649,12665,12667,12682,12683,12684,13140], inplace=True)"
      ],
      "metadata": {
        "id": "7I0YKN4uGJhi"
      },
      "execution_count": null,
      "outputs": []
    },
    {
      "cell_type": "code",
      "source": [
        "df[df['Operating_System'].isnull()].Price_in_Rs.describe()"
      ],
      "metadata": {
        "id": "mcUv9b8SIaSr",
        "colab": {
          "base_uri": "https://localhost:8080/"
        },
        "outputId": "d176f086-d4c3-4d53-d75a-e2397766566f"
      },
      "execution_count": 226,
      "outputs": [
        {
          "output_type": "execute_result",
          "data": {
            "text/plain": [
              "count      215.000000\n",
              "mean      7382.460465\n",
              "std       2512.401578\n",
              "min       5000.000000\n",
              "25%       5721.500000\n",
              "50%       6499.000000\n",
              "75%       8269.500000\n",
              "max      18000.000000\n",
              "Name: Price_in_Rs, dtype: float64"
            ]
          },
          "metadata": {},
          "execution_count": 226
        }
      ]
    },
    {
      "cell_type": "code",
      "source": [
        "temp_df = df[df['Operating_System'].isnull()]"
      ],
      "metadata": {
        "id": "km4VFbEPPjte"
      },
      "execution_count": 230,
      "outputs": []
    },
    {
      "cell_type": "code",
      "source": [
        "d = temp_df[temp_df['Price_in_Rs'] > 8500]"
      ],
      "metadata": {
        "id": "KncvVDKlRaWt"
      },
      "execution_count": 223,
      "outputs": []
    },
    {
      "cell_type": "code",
      "source": [
        "df.loc[[9542],'Operating_System'] = 'Other'"
      ],
      "metadata": {
        "id": "CoAA0vsMg_gx"
      },
      "execution_count": 228,
      "outputs": []
    },
    {
      "cell_type": "code",
      "source": [
        "# d.sort_values('Price_in_Rs',ascending=False)"
      ],
      "metadata": {
        "id": "xEyl3bBKeWlG"
      },
      "execution_count": 346,
      "outputs": []
    },
    {
      "cell_type": "code",
      "source": [
        "temp_df.shape"
      ],
      "metadata": {
        "colab": {
          "base_uri": "https://localhost:8080/"
        },
        "id": "kzciw1WHfJG8",
        "outputId": "a4827dfe-19ab-423e-a68f-e7e77b7feffa"
      },
      "execution_count": 232,
      "outputs": [
        {
          "output_type": "execute_result",
          "data": {
            "text/plain": [
              "(222, 8)"
            ]
          },
          "metadata": {},
          "execution_count": 232
        }
      ]
    },
    {
      "cell_type": "code",
      "source": [
        "df.drop(temp_df.index,inplace=True)"
      ],
      "metadata": {
        "id": "ugVA4g0xeD9Q"
      },
      "execution_count": 233,
      "outputs": []
    },
    {
      "cell_type": "code",
      "source": [
        "temp.sort_values('Price_in_Rs').shape"
      ],
      "metadata": {
        "colab": {
          "base_uri": "https://localhost:8080/"
        },
        "id": "hGkjsrd0Waww",
        "outputId": "71aaff98-dc5b-4877-f319-4cb489c12a67"
      },
      "execution_count": 136,
      "outputs": [
        {
          "output_type": "execute_result",
          "data": {
            "text/plain": [
              "(40, 8)"
            ]
          },
          "metadata": {},
          "execution_count": 136
        }
      ]
    },
    {
      "cell_type": "code",
      "source": [
        "df.loc[temp.index,'Operating_System'] = 'Bada'"
      ],
      "metadata": {
        "id": "w5kud3a4StHU"
      },
      "execution_count": 167,
      "outputs": []
    },
    {
      "cell_type": "code",
      "source": [
        "temp = temp_df[temp_df['Mobile_Brand'] == 'Samsung'][temp_df['Price_in_Rs'] >= 6200]"
      ],
      "metadata": {
        "colab": {
          "base_uri": "https://localhost:8080/"
        },
        "id": "FZiXAL4DSVBs",
        "outputId": "f73aa0f2-5fc5-4c1b-8de3-3a8958c135f7"
      },
      "execution_count": 166,
      "outputs": [
        {
          "output_type": "stream",
          "name": "stderr",
          "text": [
            "<ipython-input-166-131eac8a1832>:1: UserWarning: Boolean Series key will be reindexed to match DataFrame index.\n",
            "  temp = temp_df[temp_df['Mobile_Brand'] == 'Samsung'][temp_df['Price_in_Rs'] >= 6200]\n"
          ]
        }
      ]
    },
    {
      "cell_type": "code",
      "source": [
        "temp"
      ],
      "metadata": {
        "colab": {
          "base_uri": "https://localhost:8080/",
          "height": 89
        },
        "id": "Adv14F_FXOZK",
        "outputId": "2b6189a7-aa8c-4b14-eb89-402a02c24235"
      },
      "execution_count": 142,
      "outputs": [
        {
          "output_type": "execute_result",
          "data": {
            "text/plain": [
              "Empty DataFrame\n",
              "Columns: [Mobile_Brand, Mobile, Spec_Score, Operating_System, Price, Price_in_Rs, Per_Dis_Cam_Bat, Other_Features]\n",
              "Index: []"
            ],
            "text/html": [
              "\n",
              "  <div id=\"df-6586f12d-544a-490c-a37f-7e8a1130dd04\" class=\"colab-df-container\">\n",
              "    <div>\n",
              "<style scoped>\n",
              "    .dataframe tbody tr th:only-of-type {\n",
              "        vertical-align: middle;\n",
              "    }\n",
              "\n",
              "    .dataframe tbody tr th {\n",
              "        vertical-align: top;\n",
              "    }\n",
              "\n",
              "    .dataframe thead th {\n",
              "        text-align: right;\n",
              "    }\n",
              "</style>\n",
              "<table border=\"1\" class=\"dataframe\">\n",
              "  <thead>\n",
              "    <tr style=\"text-align: right;\">\n",
              "      <th></th>\n",
              "      <th>Mobile_Brand</th>\n",
              "      <th>Mobile</th>\n",
              "      <th>Spec_Score</th>\n",
              "      <th>Operating_System</th>\n",
              "      <th>Price</th>\n",
              "      <th>Price_in_Rs</th>\n",
              "      <th>Per_Dis_Cam_Bat</th>\n",
              "      <th>Other_Features</th>\n",
              "    </tr>\n",
              "  </thead>\n",
              "  <tbody>\n",
              "  </tbody>\n",
              "</table>\n",
              "</div>\n",
              "    <div class=\"colab-df-buttons\">\n",
              "\n",
              "  <div class=\"colab-df-container\">\n",
              "    <button class=\"colab-df-convert\" onclick=\"convertToInteractive('df-6586f12d-544a-490c-a37f-7e8a1130dd04')\"\n",
              "            title=\"Convert this dataframe to an interactive table.\"\n",
              "            style=\"display:none;\">\n",
              "\n",
              "  <svg xmlns=\"http://www.w3.org/2000/svg\" height=\"24px\" viewBox=\"0 -960 960 960\">\n",
              "    <path d=\"M120-120v-720h720v720H120Zm60-500h600v-160H180v160Zm220 220h160v-160H400v160Zm0 220h160v-160H400v160ZM180-400h160v-160H180v160Zm440 0h160v-160H620v160ZM180-180h160v-160H180v160Zm440 0h160v-160H620v160Z\"/>\n",
              "  </svg>\n",
              "    </button>\n",
              "\n",
              "  <style>\n",
              "    .colab-df-container {\n",
              "      display:flex;\n",
              "      gap: 12px;\n",
              "    }\n",
              "\n",
              "    .colab-df-convert {\n",
              "      background-color: #E8F0FE;\n",
              "      border: none;\n",
              "      border-radius: 50%;\n",
              "      cursor: pointer;\n",
              "      display: none;\n",
              "      fill: #1967D2;\n",
              "      height: 32px;\n",
              "      padding: 0 0 0 0;\n",
              "      width: 32px;\n",
              "    }\n",
              "\n",
              "    .colab-df-convert:hover {\n",
              "      background-color: #E2EBFA;\n",
              "      box-shadow: 0px 1px 2px rgba(60, 64, 67, 0.3), 0px 1px 3px 1px rgba(60, 64, 67, 0.15);\n",
              "      fill: #174EA6;\n",
              "    }\n",
              "\n",
              "    .colab-df-buttons div {\n",
              "      margin-bottom: 4px;\n",
              "    }\n",
              "\n",
              "    [theme=dark] .colab-df-convert {\n",
              "      background-color: #3B4455;\n",
              "      fill: #D2E3FC;\n",
              "    }\n",
              "\n",
              "    [theme=dark] .colab-df-convert:hover {\n",
              "      background-color: #434B5C;\n",
              "      box-shadow: 0px 1px 3px 1px rgba(0, 0, 0, 0.15);\n",
              "      filter: drop-shadow(0px 1px 2px rgba(0, 0, 0, 0.3));\n",
              "      fill: #FFFFFF;\n",
              "    }\n",
              "  </style>\n",
              "\n",
              "    <script>\n",
              "      const buttonEl =\n",
              "        document.querySelector('#df-6586f12d-544a-490c-a37f-7e8a1130dd04 button.colab-df-convert');\n",
              "      buttonEl.style.display =\n",
              "        google.colab.kernel.accessAllowed ? 'block' : 'none';\n",
              "\n",
              "      async function convertToInteractive(key) {\n",
              "        const element = document.querySelector('#df-6586f12d-544a-490c-a37f-7e8a1130dd04');\n",
              "        const dataTable =\n",
              "          await google.colab.kernel.invokeFunction('convertToInteractive',\n",
              "                                                    [key], {});\n",
              "        if (!dataTable) return;\n",
              "\n",
              "        const docLinkHtml = 'Like what you see? Visit the ' +\n",
              "          '<a target=\"_blank\" href=https://colab.research.google.com/notebooks/data_table.ipynb>data table notebook</a>'\n",
              "          + ' to learn more about interactive tables.';\n",
              "        element.innerHTML = '';\n",
              "        dataTable['output_type'] = 'display_data';\n",
              "        await google.colab.output.renderOutput(dataTable, element);\n",
              "        const docLink = document.createElement('div');\n",
              "        docLink.innerHTML = docLinkHtml;\n",
              "        element.appendChild(docLink);\n",
              "      }\n",
              "    </script>\n",
              "  </div>\n",
              "\n",
              "\n",
              "  <div id=\"id_053e2f3d-8131-486f-96a7-7cf89fd0e117\">\n",
              "    <style>\n",
              "      .colab-df-generate {\n",
              "        background-color: #E8F0FE;\n",
              "        border: none;\n",
              "        border-radius: 50%;\n",
              "        cursor: pointer;\n",
              "        display: none;\n",
              "        fill: #1967D2;\n",
              "        height: 32px;\n",
              "        padding: 0 0 0 0;\n",
              "        width: 32px;\n",
              "      }\n",
              "\n",
              "      .colab-df-generate:hover {\n",
              "        background-color: #E2EBFA;\n",
              "        box-shadow: 0px 1px 2px rgba(60, 64, 67, 0.3), 0px 1px 3px 1px rgba(60, 64, 67, 0.15);\n",
              "        fill: #174EA6;\n",
              "      }\n",
              "\n",
              "      [theme=dark] .colab-df-generate {\n",
              "        background-color: #3B4455;\n",
              "        fill: #D2E3FC;\n",
              "      }\n",
              "\n",
              "      [theme=dark] .colab-df-generate:hover {\n",
              "        background-color: #434B5C;\n",
              "        box-shadow: 0px 1px 3px 1px rgba(0, 0, 0, 0.15);\n",
              "        filter: drop-shadow(0px 1px 2px rgba(0, 0, 0, 0.3));\n",
              "        fill: #FFFFFF;\n",
              "      }\n",
              "    </style>\n",
              "    <button class=\"colab-df-generate\" onclick=\"generateWithVariable('temp')\"\n",
              "            title=\"Generate code using this dataframe.\"\n",
              "            style=\"display:none;\">\n",
              "\n",
              "  <svg xmlns=\"http://www.w3.org/2000/svg\" height=\"24px\"viewBox=\"0 0 24 24\"\n",
              "       width=\"24px\">\n",
              "    <path d=\"M7,19H8.4L18.45,9,17,7.55,7,17.6ZM5,21V16.75L18.45,3.32a2,2,0,0,1,2.83,0l1.4,1.43a1.91,1.91,0,0,1,.58,1.4,1.91,1.91,0,0,1-.58,1.4L9.25,21ZM18.45,9,17,7.55Zm-12,3A5.31,5.31,0,0,0,4.9,8.1,5.31,5.31,0,0,0,1,6.5,5.31,5.31,0,0,0,4.9,4.9,5.31,5.31,0,0,0,6.5,1,5.31,5.31,0,0,0,8.1,4.9,5.31,5.31,0,0,0,12,6.5,5.46,5.46,0,0,0,6.5,12Z\"/>\n",
              "  </svg>\n",
              "    </button>\n",
              "    <script>\n",
              "      (() => {\n",
              "      const buttonEl =\n",
              "        document.querySelector('#id_053e2f3d-8131-486f-96a7-7cf89fd0e117 button.colab-df-generate');\n",
              "      buttonEl.style.display =\n",
              "        google.colab.kernel.accessAllowed ? 'block' : 'none';\n",
              "\n",
              "      buttonEl.onclick = () => {\n",
              "        google.colab.notebook.generateWithVariable('temp');\n",
              "      }\n",
              "      })();\n",
              "    </script>\n",
              "  </div>\n",
              "\n",
              "    </div>\n",
              "  </div>\n"
            ],
            "application/vnd.google.colaboratory.intrinsic+json": {
              "type": "dataframe",
              "variable_name": "temp",
              "repr_error": "Out of range float values are not JSON compliant: nan"
            }
          },
          "metadata": {},
          "execution_count": 142
        }
      ]
    },
    {
      "cell_type": "code",
      "source": [
        "print(temp.index)"
      ],
      "metadata": {
        "colab": {
          "base_uri": "https://localhost:8080/"
        },
        "id": "7EU6V9c2S-ts",
        "outputId": "2ce0828c-555d-4cea-a4a1-1feeff7948f8"
      },
      "execution_count": 109,
      "outputs": [
        {
          "output_type": "stream",
          "name": "stdout",
          "text": [
            "Index([ 2057,  2081,  2163,  5151,  5392,  5578,  5652,  5713,  5717,  5726,\n",
            "        5760,  5762,  5789,  5923,  5926,  6080,  6086,  6087,  6090,  6108,\n",
            "        6126,  6129,  6138,  6148,  6155,  6156,  6166,  6192,  6199,  6203,\n",
            "        6221,  6244,  6277,  6280,  6297,  6308,  6312,  6324,  6442,  6476,\n",
            "        6566,  6574, 10599, 10600, 12574],\n",
            "      dtype='int64')\n"
          ]
        }
      ]
    },
    {
      "cell_type": "code",
      "source": [
        "df.loc[5548,'Operating_System'] = 'HarmonyOS 4.0'"
      ],
      "metadata": {
        "id": "SdBDqtCXMLNM"
      },
      "execution_count": 71,
      "outputs": []
    },
    {
      "cell_type": "code",
      "source": [
        "# df['Operating_System'].str.contains(r'\\([^()]*\\)')"
      ],
      "metadata": {
        "id": "zUQrd5oeSpBH"
      },
      "execution_count": 191,
      "outputs": []
    },
    {
      "cell_type": "code",
      "source": [
        "def remove_small_bracket(item):\n",
        "  if item.contains(r'\\([^()]*\\)'):\n",
        "    return re.sub(r'\\([^()]*\\)','', item)\n",
        "  else:\n",
        "    return item"
      ],
      "metadata": {
        "id": "jCy0NQIGQgpj"
      },
      "execution_count": null,
      "outputs": []
    },
    {
      "cell_type": "code",
      "source": [
        "# df['Operating_System'].apply(remove_small_bracket)"
      ],
      "metadata": {
        "id": "C8s0cy2sQAmu"
      },
      "execution_count": 345,
      "outputs": []
    },
    {
      "cell_type": "code",
      "source": [
        "from google.colab import drive\n",
        "drive.mount('/content/drive')"
      ],
      "metadata": {
        "id": "bWmh6rE6LLn3"
      },
      "execution_count": null,
      "outputs": []
    },
    {
      "cell_type": "code",
      "source": [
        "pd.set_option('display.max_rows', None)"
      ],
      "metadata": {
        "id": "9vH1Ec4lIz9I"
      },
      "execution_count": 147,
      "outputs": []
    },
    {
      "cell_type": "code",
      "source": [
        "df[df['Operating_System'].isnull()].Price_in_Rs.describe()"
      ],
      "metadata": {
        "colab": {
          "base_uri": "https://localhost:8080/"
        },
        "id": "1jA-6RXIK6lY",
        "outputId": "428437d2-1dd6-4c22-83a9-5b90ccd8b8dd"
      },
      "execution_count": null,
      "outputs": [
        {
          "output_type": "execute_result",
          "data": {
            "text/plain": [
              "count      4152.000000\n",
              "mean       3014.361031\n",
              "std        8784.151191\n",
              "min        1000.000000\n",
              "25%        1225.750000\n",
              "50%        1499.000000\n",
              "75%        2199.000000\n",
              "max      201290.000000\n",
              "Name: Price_in_Rs, dtype: float64"
            ]
          },
          "metadata": {},
          "execution_count": 59
        }
      ]
    },
    {
      "cell_type": "code",
      "source": [
        "# df[df['Operating_System'].isnull()]['Price_in_Rs'] > 2199"
      ],
      "metadata": {
        "id": "AiT0dL42MCzz"
      },
      "execution_count": null,
      "outputs": []
    },
    {
      "cell_type": "code",
      "source": [
        "df['Price_in_Rs'].describe()"
      ],
      "metadata": {
        "colab": {
          "base_uri": "https://localhost:8080/"
        },
        "id": "zB63ujCYNJhT",
        "outputId": "49497144-e4ba-471b-f362-b886fa4c192f"
      },
      "execution_count": null,
      "outputs": [
        {
          "output_type": "execute_result",
          "data": {
            "text/plain": [
              "count     13133.000000\n",
              "mean      13318.953857\n",
              "std       23730.913386\n",
              "min        1000.000000\n",
              "25%        2190.000000\n",
              "50%        6499.000000\n",
              "75%       15990.000000\n",
              "max      924990.000000\n",
              "Name: Price_in_Rs, dtype: float64"
            ]
          },
          "metadata": {},
          "execution_count": 67
        }
      ]
    },
    {
      "cell_type": "code",
      "source": [
        "# df.query('Price_in_Rs<6500').query('Price_in_Rs>2200').sort_values(by='Price_in_Rs')"
      ],
      "metadata": {
        "id": "deUWMQcqNi44"
      },
      "execution_count": 344,
      "outputs": []
    },
    {
      "cell_type": "code",
      "source": [
        "df['Per_Dis_Cam_Bat'] = df['Per_Dis_Cam_Bat'].str.split('\\n                  \\n\\n\\n\\n\\n\\n\\n\\n\\n\\n\\n')"
      ],
      "metadata": {
        "id": "sosuzWUGmraa"
      },
      "execution_count": 272,
      "outputs": []
    },
    {
      "cell_type": "code",
      "source": [
        "def core(item):\n",
        "  if item.contains('Deca'):\n",
        "    return 10\n",
        "  elif item.contains('Octa'):\n",
        "    return 8\n",
        "  elif item.contains('Hexa'):\n",
        "    return 6\n",
        "  elif item.contains('Quad'):\n",
        "    return 4\n",
        "  elif item.contains('Dual'):\n",
        "    return 2\n",
        "  elif item.contains('Single'):\n",
        "    return 1\n",
        "  else:\n",
        "    return -1"
      ],
      "metadata": {
        "id": "j6dlmnIlpKuq"
      },
      "execution_count": 338,
      "outputs": []
    },
    {
      "cell_type": "code",
      "source": [
        "def core_r(item):\n",
        "  if re.search(r'Deca', item):\n",
        "    return 10\n",
        "  elif re.search(r'Octa', item):\n",
        "    return 8\n",
        "  elif re.search(r'Hexa', item):\n",
        "    return 6\n",
        "  elif re.search(r'Quad', item):\n",
        "    return 4\n",
        "  elif re.search(r'Dual', item):\n",
        "    return 2\n",
        "  elif re.search(r'Single', item):\n",
        "    return 1\n",
        "  else:\n",
        "    return -1"
      ],
      "metadata": {
        "id": "qcQZlzNVwcJ7"
      },
      "execution_count": 340,
      "outputs": []
    },
    {
      "cell_type": "code",
      "source": [
        "n_core = df['P_D_C_B'].apply(core_r)"
      ],
      "metadata": {
        "id": "OezUjTvSvudw"
      },
      "execution_count": 343,
      "outputs": []
    },
    {
      "cell_type": "code",
      "source": [
        "df.insert(8,'No_of_Core',n_core)"
      ],
      "metadata": {
        "id": "UYXrLe0cqy31"
      },
      "execution_count": 348,
      "outputs": []
    },
    {
      "cell_type": "code",
      "source": [
        "df.sample()"
      ],
      "metadata": {
        "colab": {
          "base_uri": "https://localhost:8080/",
          "height": 115
        },
        "id": "IT20wUE2xLcS",
        "outputId": "3183ec8d-c4b2-4c9c-c486-f65338d18546"
      },
      "execution_count": 355,
      "outputs": [
        {
          "output_type": "execute_result",
          "data": {
            "text/plain": [
              "    Mobile_Brand                    Mobile Spec_Score       OS  \\\n",
              "562       realme  realme 12 Pro Plus 256GB        87%  Android   \n",
              "\n",
              "    Operating_System      Price  Price_in_Rs  \\\n",
              "562      Android v14  Rs.28,240      28240.0   \n",
              "\n",
              "                                       Per_Dis_Cam_Bat  No_of_Core  \\\n",
              "562  [Performance            Octa core (2.4 GHz, Qu...           8   \n",
              "\n",
              "                                        Other_Features  \\\n",
              "562  256 GB, Non ExpandableDual SIM: Nano + NanoSup...   \n",
              "\n",
              "                                               P_D_C_B  \n",
              "562  Performance            Octa core (2.4 GHz, Qua...  "
            ],
            "text/html": [
              "\n",
              "  <div id=\"df-4950f42c-01f8-48b4-bd90-a42ebfd6b515\" class=\"colab-df-container\">\n",
              "    <div>\n",
              "<style scoped>\n",
              "    .dataframe tbody tr th:only-of-type {\n",
              "        vertical-align: middle;\n",
              "    }\n",
              "\n",
              "    .dataframe tbody tr th {\n",
              "        vertical-align: top;\n",
              "    }\n",
              "\n",
              "    .dataframe thead th {\n",
              "        text-align: right;\n",
              "    }\n",
              "</style>\n",
              "<table border=\"1\" class=\"dataframe\">\n",
              "  <thead>\n",
              "    <tr style=\"text-align: right;\">\n",
              "      <th></th>\n",
              "      <th>Mobile_Brand</th>\n",
              "      <th>Mobile</th>\n",
              "      <th>Spec_Score</th>\n",
              "      <th>OS</th>\n",
              "      <th>Operating_System</th>\n",
              "      <th>Price</th>\n",
              "      <th>Price_in_Rs</th>\n",
              "      <th>Per_Dis_Cam_Bat</th>\n",
              "      <th>No_of_Core</th>\n",
              "      <th>Other_Features</th>\n",
              "      <th>P_D_C_B</th>\n",
              "    </tr>\n",
              "  </thead>\n",
              "  <tbody>\n",
              "    <tr>\n",
              "      <th>562</th>\n",
              "      <td>realme</td>\n",
              "      <td>realme 12 Pro Plus 256GB</td>\n",
              "      <td>87%</td>\n",
              "      <td>Android</td>\n",
              "      <td>Android v14</td>\n",
              "      <td>Rs.28,240</td>\n",
              "      <td>28240.0</td>\n",
              "      <td>[Performance            Octa core (2.4 GHz, Qu...</td>\n",
              "      <td>8</td>\n",
              "      <td>256 GB, Non ExpandableDual SIM: Nano + NanoSup...</td>\n",
              "      <td>Performance            Octa core (2.4 GHz, Qua...</td>\n",
              "    </tr>\n",
              "  </tbody>\n",
              "</table>\n",
              "</div>\n",
              "    <div class=\"colab-df-buttons\">\n",
              "\n",
              "  <div class=\"colab-df-container\">\n",
              "    <button class=\"colab-df-convert\" onclick=\"convertToInteractive('df-4950f42c-01f8-48b4-bd90-a42ebfd6b515')\"\n",
              "            title=\"Convert this dataframe to an interactive table.\"\n",
              "            style=\"display:none;\">\n",
              "\n",
              "  <svg xmlns=\"http://www.w3.org/2000/svg\" height=\"24px\" viewBox=\"0 -960 960 960\">\n",
              "    <path d=\"M120-120v-720h720v720H120Zm60-500h600v-160H180v160Zm220 220h160v-160H400v160Zm0 220h160v-160H400v160ZM180-400h160v-160H180v160Zm440 0h160v-160H620v160ZM180-180h160v-160H180v160Zm440 0h160v-160H620v160Z\"/>\n",
              "  </svg>\n",
              "    </button>\n",
              "\n",
              "  <style>\n",
              "    .colab-df-container {\n",
              "      display:flex;\n",
              "      gap: 12px;\n",
              "    }\n",
              "\n",
              "    .colab-df-convert {\n",
              "      background-color: #E8F0FE;\n",
              "      border: none;\n",
              "      border-radius: 50%;\n",
              "      cursor: pointer;\n",
              "      display: none;\n",
              "      fill: #1967D2;\n",
              "      height: 32px;\n",
              "      padding: 0 0 0 0;\n",
              "      width: 32px;\n",
              "    }\n",
              "\n",
              "    .colab-df-convert:hover {\n",
              "      background-color: #E2EBFA;\n",
              "      box-shadow: 0px 1px 2px rgba(60, 64, 67, 0.3), 0px 1px 3px 1px rgba(60, 64, 67, 0.15);\n",
              "      fill: #174EA6;\n",
              "    }\n",
              "\n",
              "    .colab-df-buttons div {\n",
              "      margin-bottom: 4px;\n",
              "    }\n",
              "\n",
              "    [theme=dark] .colab-df-convert {\n",
              "      background-color: #3B4455;\n",
              "      fill: #D2E3FC;\n",
              "    }\n",
              "\n",
              "    [theme=dark] .colab-df-convert:hover {\n",
              "      background-color: #434B5C;\n",
              "      box-shadow: 0px 1px 3px 1px rgba(0, 0, 0, 0.15);\n",
              "      filter: drop-shadow(0px 1px 2px rgba(0, 0, 0, 0.3));\n",
              "      fill: #FFFFFF;\n",
              "    }\n",
              "  </style>\n",
              "\n",
              "    <script>\n",
              "      const buttonEl =\n",
              "        document.querySelector('#df-4950f42c-01f8-48b4-bd90-a42ebfd6b515 button.colab-df-convert');\n",
              "      buttonEl.style.display =\n",
              "        google.colab.kernel.accessAllowed ? 'block' : 'none';\n",
              "\n",
              "      async function convertToInteractive(key) {\n",
              "        const element = document.querySelector('#df-4950f42c-01f8-48b4-bd90-a42ebfd6b515');\n",
              "        const dataTable =\n",
              "          await google.colab.kernel.invokeFunction('convertToInteractive',\n",
              "                                                    [key], {});\n",
              "        if (!dataTable) return;\n",
              "\n",
              "        const docLinkHtml = 'Like what you see? Visit the ' +\n",
              "          '<a target=\"_blank\" href=https://colab.research.google.com/notebooks/data_table.ipynb>data table notebook</a>'\n",
              "          + ' to learn more about interactive tables.';\n",
              "        element.innerHTML = '';\n",
              "        dataTable['output_type'] = 'display_data';\n",
              "        await google.colab.output.renderOutput(dataTable, element);\n",
              "        const docLink = document.createElement('div');\n",
              "        docLink.innerHTML = docLinkHtml;\n",
              "        element.appendChild(docLink);\n",
              "      }\n",
              "    </script>\n",
              "  </div>\n",
              "\n",
              "\n",
              "    </div>\n",
              "  </div>\n"
            ],
            "application/vnd.google.colaboratory.intrinsic+json": {
              "type": "dataframe",
              "summary": "{\n  \"name\": \"df\",\n  \"rows\": 1,\n  \"fields\": [\n    {\n      \"column\": \"Mobile_Brand\",\n      \"properties\": {\n        \"dtype\": \"string\",\n        \"num_unique_values\": 1,\n        \"samples\": [\n          \"realme\"\n        ],\n        \"semantic_type\": \"\",\n        \"description\": \"\"\n      }\n    },\n    {\n      \"column\": \"Mobile\",\n      \"properties\": {\n        \"dtype\": \"string\",\n        \"num_unique_values\": 1,\n        \"samples\": [\n          \"realme 12 Pro Plus 256GB\"\n        ],\n        \"semantic_type\": \"\",\n        \"description\": \"\"\n      }\n    },\n    {\n      \"column\": \"Spec_Score\",\n      \"properties\": {\n        \"dtype\": \"string\",\n        \"num_unique_values\": 1,\n        \"samples\": [\n          \"87%\"\n        ],\n        \"semantic_type\": \"\",\n        \"description\": \"\"\n      }\n    },\n    {\n      \"column\": \"OS\",\n      \"properties\": {\n        \"dtype\": \"string\",\n        \"num_unique_values\": 1,\n        \"samples\": [\n          \"Android\"\n        ],\n        \"semantic_type\": \"\",\n        \"description\": \"\"\n      }\n    },\n    {\n      \"column\": \"Operating_System\",\n      \"properties\": {\n        \"dtype\": \"string\",\n        \"num_unique_values\": 1,\n        \"samples\": [\n          \"Android v14\"\n        ],\n        \"semantic_type\": \"\",\n        \"description\": \"\"\n      }\n    },\n    {\n      \"column\": \"Price\",\n      \"properties\": {\n        \"dtype\": \"string\",\n        \"num_unique_values\": 1,\n        \"samples\": [\n          \"Rs.28,240\"\n        ],\n        \"semantic_type\": \"\",\n        \"description\": \"\"\n      }\n    },\n    {\n      \"column\": \"Price_in_Rs\",\n      \"properties\": {\n        \"dtype\": \"number\",\n        \"std\": null,\n        \"min\": 28240.0,\n        \"max\": 28240.0,\n        \"num_unique_values\": 1,\n        \"samples\": [\n          28240.0\n        ],\n        \"semantic_type\": \"\",\n        \"description\": \"\"\n      }\n    },\n    {\n      \"column\": \"Per_Dis_Cam_Bat\",\n      \"properties\": {\n        \"dtype\": \"object\",\n        \"semantic_type\": \"\",\n        \"description\": \"\"\n      }\n    },\n    {\n      \"column\": \"No_of_Core\",\n      \"properties\": {\n        \"dtype\": \"number\",\n        \"std\": null,\n        \"min\": 8,\n        \"max\": 8,\n        \"num_unique_values\": 1,\n        \"samples\": [\n          8\n        ],\n        \"semantic_type\": \"\",\n        \"description\": \"\"\n      }\n    },\n    {\n      \"column\": \"Other_Features\",\n      \"properties\": {\n        \"dtype\": \"string\",\n        \"num_unique_values\": 1,\n        \"samples\": [\n          \"256 GB, Non ExpandableDual SIM: Nano + NanoSupported in IndiaVoLTEFingerprint sensorUSB OTG SupportSplashproof, IP65\"\n        ],\n        \"semantic_type\": \"\",\n        \"description\": \"\"\n      }\n    },\n    {\n      \"column\": \"P_D_C_B\",\n      \"properties\": {\n        \"dtype\": \"string\",\n        \"num_unique_values\": 1,\n        \"samples\": [\n          \"Performance            Octa core (2.4 GHz, Quad Core + 1.95 GHz, Quad core)Snapdragon 7s Gen 28 GB RAMDisplay            6.7 inches (17.02 cm)FHD+, AMOLED120 Hz Refresh RateCamera            50 MP + 8 MP + 64 MP Triple Primary CamerasLED Flash32 MP Front CameraBattery            5000 mAhSuper VOOC ChargingUSB Type-C Port\"\n        ],\n        \"semantic_type\": \"\",\n        \"description\": \"\"\n      }\n    }\n  ]\n}"
            }
          },
          "metadata": {},
          "execution_count": 355
        }
      ]
    },
    {
      "cell_type": "code",
      "source": [
        "df['Per_Dis_Cam_Bat'][13081]"
      ],
      "metadata": {
        "colab": {
          "base_uri": "https://localhost:8080/"
        },
        "id": "a8_wI_NHoq3O",
        "outputId": "84e4de71-53ca-4794-d97e-ddf780950d73"
      },
      "execution_count": 325,
      "outputs": [
        {
          "output_type": "execute_result",
          "data": {
            "text/plain": [
              "['PerformanceQuad Core, 1.3 GHz3 GB RAMDisplay5.0 inches (12.7 cm)HD, IPS LCDCamera13 MP Primary CameraLED Flash5 MP Front CameraBattery2500 mAhmicroUSB PortNon-Removable']"
            ]
          },
          "metadata": {},
          "execution_count": 325
        }
      ]
    },
    {
      "cell_type": "code",
      "source": [
        "df['P_D_C_B'] = df['Per_Dis_Cam_Bat'].apply(lambda x: ' '.join(x))"
      ],
      "metadata": {
        "id": "9CPN7zG5scqt"
      },
      "execution_count": 310,
      "outputs": []
    },
    {
      "cell_type": "code",
      "source": [
        "ram_capacity = df['P_D_C_B'].apply(ram)"
      ],
      "metadata": {
        "id": "ndn__s7ZtNwr"
      },
      "execution_count": 367,
      "outputs": []
    },
    {
      "cell_type": "code",
      "source": [
        "ram_capacity = ram_capacity.str.replace('28','8')"
      ],
      "metadata": {
        "id": "o8LnRUvq0eT9"
      },
      "execution_count": 470,
      "outputs": []
    },
    {
      "cell_type": "code",
      "source": [
        "# ram_capacity.apply(r'\\b(?:1, ?2, ?3, ?4, ?6, ?8, ?12, ?18)\\b')"
      ],
      "metadata": {
        "id": "G2v3j2dT2wTW"
      },
      "execution_count": 869,
      "outputs": []
    },
    {
      "cell_type": "code",
      "source": [
        "ram_capacity = ram_capacity.str.split().str.get(0)"
      ],
      "metadata": {
        "id": "TrHbnoNlzf66"
      },
      "execution_count": 407,
      "outputs": []
    },
    {
      "cell_type": "code",
      "source": [
        "extract_sequence('67818')"
      ],
      "metadata": {
        "colab": {
          "base_uri": "https://localhost:8080/"
        },
        "id": "i-ACPZ_z9zMH",
        "outputId": "db4f251b-f374-47d6-88a1-afe91f8f9c00"
      },
      "execution_count": 479,
      "outputs": [
        {
          "output_type": "execute_result",
          "data": {
            "text/plain": [
              "[]"
            ]
          },
          "metadata": {},
          "execution_count": 479
        }
      ]
    },
    {
      "cell_type": "code",
      "source": [
        "ram_capacity = ram_capacity.astype(object)"
      ],
      "metadata": {
        "id": "wM_BFShk8bEz"
      },
      "execution_count": 494,
      "outputs": []
    },
    {
      "cell_type": "code",
      "source": [
        "ram('67818')"
      ],
      "metadata": {
        "colab": {
          "base_uri": "https://localhost:8080/"
        },
        "id": "MB0KywWJ9qSt",
        "outputId": "0d319be0-8c4b-42eb-c138-6b26211439a6"
      },
      "execution_count": 478,
      "outputs": [
        {
          "output_type": "execute_result",
          "data": {
            "text/plain": [
              "-1"
            ]
          },
          "metadata": {},
          "execution_count": 478
        }
      ]
    },
    {
      "cell_type": "code",
      "source": [
        "df.sample(1).Per_Dis_Cam_Bat"
      ],
      "metadata": {
        "colab": {
          "base_uri": "https://localhost:8080/"
        },
        "id": "OZEUl6ncpRXa",
        "outputId": "a41e403b-3077-4f31-d06d-6b7652ec78e9"
      },
      "execution_count": 290,
      "outputs": [
        {
          "output_type": "execute_result",
          "data": {
            "text/plain": [
              "8312    [Performance            Quad Core, 1.25 GHzMed...\n",
              "Name: Per_Dis_Cam_Bat, dtype: object"
            ]
          },
          "metadata": {},
          "execution_count": 290
        }
      ]
    },
    {
      "cell_type": "code",
      "source": [
        "# ram_capacity.value"
      ],
      "metadata": {
        "id": "3C-0Q2Mg3rDP"
      },
      "execution_count": 457,
      "outputs": []
    },
    {
      "cell_type": "code",
      "source": [
        "# df[df['Mobile_Brand'] == 'Apple'].sort_values('Price_in_Rs')"
      ],
      "metadata": {
        "id": "FbzDh2bk-dW3"
      },
      "execution_count": 868,
      "outputs": []
    },
    {
      "cell_type": "code",
      "source": [
        "pd.set_option('display.max_colwidth', None)"
      ],
      "metadata": {
        "id": "DmW_w8HHFLIY"
      },
      "execution_count": 520,
      "outputs": []
    },
    {
      "cell_type": "code",
      "source": [
        "df['P_D_C_B'].str.split(',').str.get(2).sample(5)"
      ],
      "metadata": {
        "colab": {
          "base_uri": "https://localhost:8080/"
        },
        "id": "p2oy7XUuLiBo",
        "outputId": "69844a05-ff6f-45ed-fabf-44fe7b1f136f"
      },
      "execution_count": 676,
      "outputs": [
        {
          "output_type": "execute_result",
          "data": {
            "text/plain": [
              "915       IPS LCD60 Hz Refresh RateCamera            13 MP + 0.08 MP Dual Primary CamerasDual LED Flash5 MP Front CameraBattery            5000 mAhNo Quick ChargingUSB Type-C Port\n",
              "12756                                                                                               Quad core)Snapdragon 6502 GB RAMDisplay            5.5 inches (13.97 cm)FULL HD\n",
              "6587                                                                                                   Quad core)Unisoc SC9863A2 GB RAMDisplay            6.52 inches (16.56 cm)HD+\n",
              "9395                                                                         IPS LCDCamera            8 MP Primary CameraDual LED Flash2 MP Front CameraBattery            2100 mAh\n",
              "4217                                                                                  LCDCamera            5 MP Primary CameraLED Flash2 MP Front CameraBattery            1700 mAh\n",
              "Name: P_D_C_B, dtype: object"
            ]
          },
          "metadata": {},
          "execution_count": 676
        }
      ]
    },
    {
      "cell_type": "code",
      "source": [
        "# df['P_D_C_B'].apply(lambda x:re.search(r'(\\d+\\.\\d+) inches',x).group(1))"
      ],
      "metadata": {
        "id": "VgSFU0Jl-gS-"
      },
      "execution_count": 608,
      "outputs": []
    },
    {
      "cell_type": "code",
      "source": [
        "df.sample()"
      ],
      "metadata": {
        "colab": {
          "base_uri": "https://localhost:8080/",
          "height": 425
        },
        "id": "ZHpQwRAzZD1Q",
        "outputId": "73a30aaa-e655-4550-9654-05786c564501"
      },
      "execution_count": 865,
      "outputs": [
        {
          "output_type": "execute_result",
          "data": {
            "text/plain": [
              "     Mobile_Brand       Mobile Spec_Score       OS       Operating_System  \\\n",
              "3552         Yuho  Yuho Y2 Pro        64%  Android  Android v7.0 (Nougat)   \n",
              "\n",
              "         Price  Price_in_Rs  \\\n",
              "3552  Rs.5,499       5499.0   \n",
              "\n",
              "                                                                                                                                                                                                                                         Per_Dis_Cam_Bat  \\\n",
              "3552  [Performance            Quad Core, 1.3 GHzMediaTek MT67372 GB RAMDisplay            5.5 inches (13.97 cm)HD, IPS LCDCamera            8 MP + 8 MP Dual Primary CamerasLED Flash8 MP Front CameraBattery            2750 mAhmicroUSB PortRemovable]   \n",
              "\n",
              "      No_of_Core Pro_Company  ...   ppi Refresh_Rate No_Pimary_Cam  \\\n",
              "3552           4    MediaTek  ...  None         None             2   \n",
              "\n",
              "     Primary_Camera  Front_Camera Battery_Capacity Fast_Charging  Port_Type  \\\n",
              "3552              8             8             2750          True  Micro USB   \n",
              "\n",
              "                                                                                                                   Other_Features  \\\n",
              "3552  16 GB + 32 GB ExpandableDual SIM: Nano + NanoNot Supported in IndiaVoLTESupported in IndiaFingerprint sensorUSB OTG Support   \n",
              "\n",
              "                                                                                                                                                                                                                                               P_D_C_B  \n",
              "3552  Performance            Quad Core, 1.3 GHzMediaTek MT67372 GB RAMDisplay            5.5 inches (13.97 cm)HD, IPS LCDCamera            8 MP + 8 MP Dual Primary CamerasLED Flash8 MP Front CameraBattery            2750 mAhmicroUSB PortRemovable  \n",
              "\n",
              "[1 rows x 22 columns]"
            ],
            "text/html": [
              "\n",
              "  <div id=\"df-50c2ad45-8e14-4b9b-a0b5-ea86c12249c9\" class=\"colab-df-container\">\n",
              "    <div>\n",
              "<style scoped>\n",
              "    .dataframe tbody tr th:only-of-type {\n",
              "        vertical-align: middle;\n",
              "    }\n",
              "\n",
              "    .dataframe tbody tr th {\n",
              "        vertical-align: top;\n",
              "    }\n",
              "\n",
              "    .dataframe thead th {\n",
              "        text-align: right;\n",
              "    }\n",
              "</style>\n",
              "<table border=\"1\" class=\"dataframe\">\n",
              "  <thead>\n",
              "    <tr style=\"text-align: right;\">\n",
              "      <th></th>\n",
              "      <th>Mobile_Brand</th>\n",
              "      <th>Mobile</th>\n",
              "      <th>Spec_Score</th>\n",
              "      <th>OS</th>\n",
              "      <th>Operating_System</th>\n",
              "      <th>Price</th>\n",
              "      <th>Price_in_Rs</th>\n",
              "      <th>Per_Dis_Cam_Bat</th>\n",
              "      <th>No_of_Core</th>\n",
              "      <th>Pro_Company</th>\n",
              "      <th>...</th>\n",
              "      <th>ppi</th>\n",
              "      <th>Refresh_Rate</th>\n",
              "      <th>No_Pimary_Cam</th>\n",
              "      <th>Primary_Camera</th>\n",
              "      <th>Front_Camera</th>\n",
              "      <th>Battery_Capacity</th>\n",
              "      <th>Fast_Charging</th>\n",
              "      <th>Port_Type</th>\n",
              "      <th>Other_Features</th>\n",
              "      <th>P_D_C_B</th>\n",
              "    </tr>\n",
              "  </thead>\n",
              "  <tbody>\n",
              "    <tr>\n",
              "      <th>3552</th>\n",
              "      <td>Yuho</td>\n",
              "      <td>Yuho Y2 Pro</td>\n",
              "      <td>64%</td>\n",
              "      <td>Android</td>\n",
              "      <td>Android v7.0 (Nougat)</td>\n",
              "      <td>Rs.5,499</td>\n",
              "      <td>5499.0</td>\n",
              "      <td>[Performance            Quad Core, 1.3 GHzMediaTek MT67372 GB RAMDisplay            5.5 inches (13.97 cm)HD, IPS LCDCamera            8 MP + 8 MP Dual Primary CamerasLED Flash8 MP Front CameraBattery            2750 mAhmicroUSB PortRemovable]</td>\n",
              "      <td>4</td>\n",
              "      <td>MediaTek</td>\n",
              "      <td>...</td>\n",
              "      <td>None</td>\n",
              "      <td>None</td>\n",
              "      <td>2</td>\n",
              "      <td>8</td>\n",
              "      <td>8</td>\n",
              "      <td>2750</td>\n",
              "      <td>True</td>\n",
              "      <td>Micro USB</td>\n",
              "      <td>16 GB + 32 GB ExpandableDual SIM: Nano + NanoNot Supported in IndiaVoLTESupported in IndiaFingerprint sensorUSB OTG Support</td>\n",
              "      <td>Performance            Quad Core, 1.3 GHzMediaTek MT67372 GB RAMDisplay            5.5 inches (13.97 cm)HD, IPS LCDCamera            8 MP + 8 MP Dual Primary CamerasLED Flash8 MP Front CameraBattery            2750 mAhmicroUSB PortRemovable</td>\n",
              "    </tr>\n",
              "  </tbody>\n",
              "</table>\n",
              "<p>1 rows × 22 columns</p>\n",
              "</div>\n",
              "    <div class=\"colab-df-buttons\">\n",
              "\n",
              "  <div class=\"colab-df-container\">\n",
              "    <button class=\"colab-df-convert\" onclick=\"convertToInteractive('df-50c2ad45-8e14-4b9b-a0b5-ea86c12249c9')\"\n",
              "            title=\"Convert this dataframe to an interactive table.\"\n",
              "            style=\"display:none;\">\n",
              "\n",
              "  <svg xmlns=\"http://www.w3.org/2000/svg\" height=\"24px\" viewBox=\"0 -960 960 960\">\n",
              "    <path d=\"M120-120v-720h720v720H120Zm60-500h600v-160H180v160Zm220 220h160v-160H400v160Zm0 220h160v-160H400v160ZM180-400h160v-160H180v160Zm440 0h160v-160H620v160ZM180-180h160v-160H180v160Zm440 0h160v-160H620v160Z\"/>\n",
              "  </svg>\n",
              "    </button>\n",
              "\n",
              "  <style>\n",
              "    .colab-df-container {\n",
              "      display:flex;\n",
              "      gap: 12px;\n",
              "    }\n",
              "\n",
              "    .colab-df-convert {\n",
              "      background-color: #E8F0FE;\n",
              "      border: none;\n",
              "      border-radius: 50%;\n",
              "      cursor: pointer;\n",
              "      display: none;\n",
              "      fill: #1967D2;\n",
              "      height: 32px;\n",
              "      padding: 0 0 0 0;\n",
              "      width: 32px;\n",
              "    }\n",
              "\n",
              "    .colab-df-convert:hover {\n",
              "      background-color: #E2EBFA;\n",
              "      box-shadow: 0px 1px 2px rgba(60, 64, 67, 0.3), 0px 1px 3px 1px rgba(60, 64, 67, 0.15);\n",
              "      fill: #174EA6;\n",
              "    }\n",
              "\n",
              "    .colab-df-buttons div {\n",
              "      margin-bottom: 4px;\n",
              "    }\n",
              "\n",
              "    [theme=dark] .colab-df-convert {\n",
              "      background-color: #3B4455;\n",
              "      fill: #D2E3FC;\n",
              "    }\n",
              "\n",
              "    [theme=dark] .colab-df-convert:hover {\n",
              "      background-color: #434B5C;\n",
              "      box-shadow: 0px 1px 3px 1px rgba(0, 0, 0, 0.15);\n",
              "      filter: drop-shadow(0px 1px 2px rgba(0, 0, 0, 0.3));\n",
              "      fill: #FFFFFF;\n",
              "    }\n",
              "  </style>\n",
              "\n",
              "    <script>\n",
              "      const buttonEl =\n",
              "        document.querySelector('#df-50c2ad45-8e14-4b9b-a0b5-ea86c12249c9 button.colab-df-convert');\n",
              "      buttonEl.style.display =\n",
              "        google.colab.kernel.accessAllowed ? 'block' : 'none';\n",
              "\n",
              "      async function convertToInteractive(key) {\n",
              "        const element = document.querySelector('#df-50c2ad45-8e14-4b9b-a0b5-ea86c12249c9');\n",
              "        const dataTable =\n",
              "          await google.colab.kernel.invokeFunction('convertToInteractive',\n",
              "                                                    [key], {});\n",
              "        if (!dataTable) return;\n",
              "\n",
              "        const docLinkHtml = 'Like what you see? Visit the ' +\n",
              "          '<a target=\"_blank\" href=https://colab.research.google.com/notebooks/data_table.ipynb>data table notebook</a>'\n",
              "          + ' to learn more about interactive tables.';\n",
              "        element.innerHTML = '';\n",
              "        dataTable['output_type'] = 'display_data';\n",
              "        await google.colab.output.renderOutput(dataTable, element);\n",
              "        const docLink = document.createElement('div');\n",
              "        docLink.innerHTML = docLinkHtml;\n",
              "        element.appendChild(docLink);\n",
              "      }\n",
              "    </script>\n",
              "  </div>\n",
              "\n",
              "\n",
              "    </div>\n",
              "  </div>\n"
            ],
            "application/vnd.google.colaboratory.intrinsic+json": {
              "type": "dataframe"
            }
          },
          "metadata": {},
          "execution_count": 865
        }
      ]
    },
    {
      "cell_type": "code",
      "source": [
        "df.insert(15,'Primary_Camera',p)"
      ],
      "metadata": {
        "id": "IQ-0lKHMMQWo"
      },
      "execution_count": 864,
      "outputs": []
    },
    {
      "cell_type": "code",
      "source": [
        "# df.drop(columns='Primary_Camera',inplace=True)"
      ],
      "metadata": {
        "id": "m4GjyaFqhWFg"
      },
      "execution_count": 863,
      "outputs": []
    },
    {
      "cell_type": "code",
      "source": [
        "def cam(item):\n",
        "  if re.search(r\"Quad\\s+Primary\\s+Camera\", item):\n",
        "    return 4\n",
        "  elif re.search(r\"Triple\\s+Primary\\s+Camera\", item):\n",
        "    return 3\n",
        "  elif re.search(r\"Dual\\s+Primary\\s+Camera\", item):\n",
        "    return 2\n",
        "  else:\n",
        "    return 1"
      ],
      "metadata": {
        "id": "UBhCjAEdBzgs"
      },
      "execution_count": 792,
      "outputs": []
    },
    {
      "cell_type": "code",
      "source": [
        "def port(item):\n",
        "  if re.search(r'Type-C', item):\n",
        "    return 'Type-C'\n",
        "  elif re.search(r'Micro|micro', item):\n",
        "    return 'Micro USB'\n",
        "  else:\n",
        "    return 'Not Found'"
      ],
      "metadata": {
        "id": "nUXfxge3XJio"
      },
      "execution_count": 734,
      "outputs": []
    },
    {
      "cell_type": "code",
      "source": [
        "item = 'Performance            Quad Core, 1.1 GHzSnapdragon 2102 GB RAMDisplay            5.0 inches (12.7 cm)HD, IPS LCDCamera            8 MP Primary CameraLED Flash2 MP Front CameraBattery            2100 mAhQuick ChargingRemovable'\n",
        "re.search(r'(\\d+\\.\\d+) inches',item).group(1)"
      ],
      "metadata": {
        "colab": {
          "base_uri": "https://localhost:8080/",
          "height": 35
        },
        "id": "p26nfASvDB5b",
        "outputId": "c5dc476c-7282-4937-bc9e-f7bb1619e9ba"
      },
      "execution_count": 602,
      "outputs": [
        {
          "output_type": "execute_result",
          "data": {
            "text/plain": [
              "'5.0'"
            ],
            "application/vnd.google.colaboratory.intrinsic+json": {
              "type": "string"
            }
          },
          "metadata": {},
          "execution_count": 602
        }
      ]
    },
    {
      "cell_type": "code",
      "source": [
        "def extract_resolution(string):\n",
        "    pattern = r\"(\\d+\\.\\d+) inches\"\n",
        "    match = re.search(pattern, string)\n",
        "    if match:\n",
        "        resolution = match.group(1)\n",
        "        return resolution\n",
        "    else:\n",
        "        return np.nan"
      ],
      "metadata": {
        "id": "aZJxbWBhNf7N"
      },
      "execution_count": 604,
      "outputs": []
    },
    {
      "cell_type": "code",
      "source": [
        "def extract_battery_capacity(string):\n",
        "    pattern = r\"\\d{4} mAh\"\n",
        "    match = re.search(pattern, string)\n",
        "    if match:\n",
        "        capacity = match.group(0)\n",
        "        return capacity\n",
        "    else:\n",
        "        return None"
      ],
      "metadata": {
        "id": "EbSvU-zwOrOV"
      },
      "execution_count": 612,
      "outputs": []
    },
    {
      "cell_type": "code",
      "source": [
        "def extract_resolution(string):\n",
        "    pattern = r\"\\d{3,4}x\\d{3,4} px\"\n",
        "    match = re.search(pattern, string)\n",
        "    if match:\n",
        "        resolution = match.group(0)\n",
        "        return resolution\n",
        "    else:\n",
        "        return None"
      ],
      "metadata": {
        "id": "cO_KDTDARqEs"
      },
      "execution_count": 654,
      "outputs": []
    },
    {
      "cell_type": "code",
      "source": [
        "def extract_refresh_rate(string):\n",
        "    pattern = r\"\\d{1,3} Hz\"\n",
        "    match = re.search(pattern, string)\n",
        "    pattern1 = r\"\\d{1,3}Hz\"\n",
        "    match1 = re.search(pattern1, string)\n",
        "    if match:\n",
        "        refresh_rate = match.group(0)\n",
        "        return refresh_rate\n",
        "    if match1:\n",
        "        refresh_rate = match1.group(0)\n",
        "        return '120 Hz'\n",
        "    else:\n",
        "        return None"
      ],
      "metadata": {
        "id": "xOGCQDICUCVK"
      },
      "execution_count": 689,
      "outputs": []
    },
    {
      "cell_type": "code",
      "source": [
        "df['P_D_C_B'].sample()"
      ],
      "metadata": {
        "colab": {
          "base_uri": "https://localhost:8080/"
        },
        "id": "GIO8dhjZP9-B",
        "outputId": "5b9cbe79-ad24-4183-8219-7bd83f869bc2"
      },
      "execution_count": 806,
      "outputs": [
        {
          "output_type": "execute_result",
          "data": {
            "text/plain": [
              "2121    PerformanceOcta core (2.2 GHz, Dual Core + 2 GHz, Hexa Core)MediaTek Helio G99 Ultra8 GB RAMDisplay6.67 inches (16.94 cm)FHD+, AMOLED120 Hz Refresh RateCamera200 MP + 8 MP + 2 MP Triple Primary CamerasLED Flash16 MP Front CameraBattery5000 mAhTurbo ChargingUSB Type-C Port\n",
              "Name: P_D_C_B, dtype: object"
            ]
          },
          "metadata": {},
          "execution_count": 806
        }
      ]
    },
    {
      "cell_type": "code",
      "source": [
        "df['Primary_Camera'].isnull().sum()"
      ],
      "metadata": {
        "colab": {
          "base_uri": "https://localhost:8080/"
        },
        "id": "z-OD3IZOjR72",
        "outputId": "49be5c6a-07d2-4957-fa24-da9358fb9b8b"
      },
      "execution_count": 850,
      "outputs": [
        {
          "output_type": "execute_result",
          "data": {
            "text/plain": [
              "3237"
            ]
          },
          "metadata": {},
          "execution_count": 850
        }
      ]
    },
    {
      "cell_type": "code",
      "source": [
        "def pri(x):\n",
        "  if re.search(r\"Camera\\s+(\\d+)\\s+MP\",x):\n",
        "    return re.search(r\"Camera\\s+(\\d+)\\s+MP\",x).group(1)\n",
        "  elif re.search(r\"Camera\\s+(\\d+\\.\\d+)\\s+MP\",x):\n",
        "    return re.search(r\"Camera\\s+(\\d+\\.\\d+)\\s+MP\",x).group(1)\n",
        "  elif re.search(r\"Camera+(\\d+)\\s+MP\",x):\n",
        "    return re.search(r\"Camera+(\\d+)\\s+MP\",x).group(1)\n",
        "  else:\n",
        "    return np.nan"
      ],
      "metadata": {
        "id": "sksYiBBGgods"
      },
      "execution_count": 858,
      "outputs": []
    },
    {
      "cell_type": "code",
      "source": [],
      "metadata": {
        "id": "thNjw9eAjPdd"
      },
      "execution_count": null,
      "outputs": []
    },
    {
      "cell_type": "code",
      "source": [
        "def front(x):\n",
        "  if re.search(r'(\\d+)\\s+MP\\s+Front\\s+Camera',x):\n",
        ""
      ],
      "metadata": {
        "id": "lAhcTID6iMvU"
      },
      "execution_count": null,
      "outputs": []
    },
    {
      "cell_type": "code",
      "source": [
        "p=df['P_D_C_B'].apply(pri)"
      ],
      "metadata": {
        "id": "_HsC7LjlhDVn"
      },
      "execution_count": 861,
      "outputs": []
    },
    {
      "cell_type": "code",
      "source": [
        "# df['P_D_C_B'].apply(lambda x: re.search(r\"Camera+(\\d+)\\s+MP\",x).group(1) if re.search(r\"Camera+(\\d+)\\s+MP\",x) else None)"
      ],
      "metadata": {
        "id": "0WD9HVQxNmCr"
      },
      "execution_count": 867,
      "outputs": []
    },
    {
      "cell_type": "code",
      "source": [
        "df['P_D_C_B'].apply(lambda x: re.search(r\"Camera\\s+(\\d+\\.\\d+)\\s+MP\",x).group(1) if re.search(r\"Camera\\s+(\\d+\\.\\d+)\\s+MP\",x) else None).value_counts()"
      ],
      "metadata": {
        "colab": {
          "base_uri": "https://localhost:8080/"
        },
        "id": "AlAiIb5vURqY",
        "outputId": "8478c201-ff7f-4a90-b963-7ac2cc55c877"
      },
      "execution_count": 819,
      "outputs": [
        {
          "output_type": "execute_result",
          "data": {
            "text/plain": [
              "P_D_C_B\n",
              "3.2     34\n",
              "12.2    20\n",
              "20.7    11\n",
              "12.3    10\n",
              "22.6     4\n",
              "13.2     4\n",
              "21.5     4\n",
              "13.1     4\n",
              "3.5      2\n",
              "6.7      2\n",
              "21.6     2\n",
              "1.3      2\n",
              "47.2     2\n",
              "0.3      2\n",
              "22.5     2\n",
              "20.2     1\n",
              "50.3     1\n",
              "23.7     1\n",
              "8.7      1\n",
              "Name: count, dtype: int64"
            ]
          },
          "metadata": {},
          "execution_count": 819
        }
      ]
    },
    {
      "cell_type": "code",
      "source": [
        "# import re\n",
        "\n",
        "# info = \"\"\"\n",
        "# 6428    Performance            Octa core (2.2 GHz, Dual Core + 2 GHz, Hexa Core)MediaTek Dimensity 7004 GB RAMDisplay            6.52 inches (16.56 cm)HD+, IPS LCD90 Hz Refresh RateCamera            13 MP + 2 MP + 2 MP Triple Primary CamerasLED Flash8 MP Front CameraBattery            4500 mAhUSB Type-C PortNon-Removable\n",
        "# \"\"\"\n",
        "\n",
        "# pattern = r\"Triple\\s+Primary\\s+Camera\"\n",
        "# match = re.search(pattern, info)\n",
        "\n",
        "# if match:\n",
        "#     camera_specs = match.group(1)\n",
        "#     print(\"Triple Primary Camera Specifications:\", camera_specs)\n",
        "# else:\n",
        "#     print(\"No match found for Triple Primary Camera.\")"
      ],
      "metadata": {
        "id": "eB3PQz6YRgX2"
      },
      "execution_count": 870,
      "outputs": []
    },
    {
      "cell_type": "code",
      "source": [
        "temp = df[df['Mobile_Brand']=='Apple']"
      ],
      "metadata": {
        "id": "Vf12fDJ9TbcD"
      },
      "execution_count": 762,
      "outputs": []
    },
    {
      "cell_type": "code",
      "source": [
        "temp = temp[temp['Port_Type'] == 'Not Found']"
      ],
      "metadata": {
        "id": "AyTwPC61aDvI"
      },
      "execution_count": 765,
      "outputs": []
    },
    {
      "cell_type": "code",
      "source": [
        "df.loc[temp.index,'Port_Type'] = 'Lightning'"
      ],
      "metadata": {
        "id": "mhfNZUPnaNY-"
      },
      "execution_count": 767,
      "outputs": []
    },
    {
      "cell_type": "code",
      "source": [
        "df['Port_Type'].value_counts()"
      ],
      "metadata": {
        "colab": {
          "base_uri": "https://localhost:8080/"
        },
        "id": "CVaLZmHcacDn",
        "outputId": "c74ecb19-ff8e-4eca-bac8-96d37d9f7cd1"
      },
      "execution_count": 768,
      "outputs": [
        {
          "output_type": "execute_result",
          "data": {
            "text/plain": [
              "Port_Type\n",
              "Not Found    4626\n",
              "Type-C       3065\n",
              "Micro USB    1267\n",
              "Lightning     123\n",
              "Name: count, dtype: int64"
            ]
          },
          "metadata": {},
          "execution_count": 768
        }
      ]
    },
    {
      "cell_type": "code",
      "source": [
        "df.info()"
      ],
      "metadata": {
        "colab": {
          "base_uri": "https://localhost:8080/"
        },
        "id": "gKo5ldUUanTU",
        "outputId": "b8f7bf4a-d3e3-4ee1-d804-249fa0bf6542"
      },
      "execution_count": 903,
      "outputs": [
        {
          "output_type": "stream",
          "name": "stdout",
          "text": [
            "<class 'pandas.core.frame.DataFrame'>\n",
            "Index: 9081 entries, 0 to 13136\n",
            "Data columns (total 22 columns):\n",
            " #   Column            Non-Null Count  Dtype  \n",
            "---  ------            --------------  -----  \n",
            " 0   Mobile_Brand      9081 non-null   object \n",
            " 1   Mobile            9081 non-null   object \n",
            " 2   Spec_Score        6410 non-null   object \n",
            " 3   OS                9081 non-null   object \n",
            " 4   Operating_System  9081 non-null   object \n",
            " 5   Price             9081 non-null   object \n",
            " 6   Price_in_Rs       9081 non-null   float64\n",
            " 7   Per_Dis_Cam_Bat   9081 non-null   object \n",
            " 8   No_of_Core        9081 non-null   int64  \n",
            " 9   Pro_Company       9081 non-null   object \n",
            " 10  Ram_Capacity_GB   7384 non-null   float64\n",
            " 11  Screen_Size_inch  8698 non-null   object \n",
            " 12  ppi               2626 non-null   object \n",
            " 13  Refresh_Rate      2040 non-null   object \n",
            " 14  No_Pimary_Cam     9081 non-null   int64  \n",
            " 15  Primary_Camera    8149 non-null   object \n",
            " 16  Front_Camera      8461 non-null   object \n",
            " 17  Battery_Capacity  9027 non-null   object \n",
            " 18  Fast_Charging     9081 non-null   bool   \n",
            " 19  Port_Type         9081 non-null   object \n",
            " 20  Other_Features    9081 non-null   object \n",
            " 21  P_D_C_B           9081 non-null   object \n",
            "dtypes: bool(1), float64(2), int64(2), object(17)\n",
            "memory usage: 1.8+ MB\n"
          ]
        }
      ]
    },
    {
      "cell_type": "code",
      "source": [
        "def ram_refi(r):\n",
        "  l = [1,2,3,4,6,8,12,18]\n",
        "  if r%100 in l:\n",
        "    return r%100\n",
        "  elif r%10 in l:\n",
        "    return r%10"
      ],
      "metadata": {
        "id": "aLD3J91Lm8yI"
      },
      "execution_count": 900,
      "outputs": []
    },
    {
      "cell_type": "code",
      "source": [
        "df['Ram_Capacity_GB'] = df['Ram_Capacity_GB'].apply(ram_refi)"
      ],
      "metadata": {
        "id": "Zm7AQdwan4sV"
      },
      "execution_count": 902,
      "outputs": []
    },
    {
      "cell_type": "code",
      "source": [
        "df[df['Ram_Capacity_GB'] == 32][['P_D_C_B','Ram_Capacity_GB','Price']]"
      ],
      "metadata": {
        "colab": {
          "base_uri": "https://localhost:8080/",
          "height": 53
        },
        "id": "CKkvFkUScZau",
        "outputId": "232a1288-7b66-4976-9e91-5c561ea8838a"
      },
      "execution_count": 899,
      "outputs": [
        {
          "output_type": "execute_result",
          "data": {
            "text/plain": [
              "Empty DataFrame\n",
              "Columns: [P_D_C_B, Ram_Capacity_GB, Price]\n",
              "Index: []"
            ],
            "text/html": [
              "\n",
              "  <div id=\"df-1ede3e4d-eeea-4c46-bb73-0987a3e312fb\" class=\"colab-df-container\">\n",
              "    <div>\n",
              "<style scoped>\n",
              "    .dataframe tbody tr th:only-of-type {\n",
              "        vertical-align: middle;\n",
              "    }\n",
              "\n",
              "    .dataframe tbody tr th {\n",
              "        vertical-align: top;\n",
              "    }\n",
              "\n",
              "    .dataframe thead th {\n",
              "        text-align: right;\n",
              "    }\n",
              "</style>\n",
              "<table border=\"1\" class=\"dataframe\">\n",
              "  <thead>\n",
              "    <tr style=\"text-align: right;\">\n",
              "      <th></th>\n",
              "      <th>P_D_C_B</th>\n",
              "      <th>Ram_Capacity_GB</th>\n",
              "      <th>Price</th>\n",
              "    </tr>\n",
              "  </thead>\n",
              "  <tbody>\n",
              "  </tbody>\n",
              "</table>\n",
              "</div>\n",
              "    <div class=\"colab-df-buttons\">\n",
              "\n",
              "  <div class=\"colab-df-container\">\n",
              "    <button class=\"colab-df-convert\" onclick=\"convertToInteractive('df-1ede3e4d-eeea-4c46-bb73-0987a3e312fb')\"\n",
              "            title=\"Convert this dataframe to an interactive table.\"\n",
              "            style=\"display:none;\">\n",
              "\n",
              "  <svg xmlns=\"http://www.w3.org/2000/svg\" height=\"24px\" viewBox=\"0 -960 960 960\">\n",
              "    <path d=\"M120-120v-720h720v720H120Zm60-500h600v-160H180v160Zm220 220h160v-160H400v160Zm0 220h160v-160H400v160ZM180-400h160v-160H180v160Zm440 0h160v-160H620v160ZM180-180h160v-160H180v160Zm440 0h160v-160H620v160Z\"/>\n",
              "  </svg>\n",
              "    </button>\n",
              "\n",
              "  <style>\n",
              "    .colab-df-container {\n",
              "      display:flex;\n",
              "      gap: 12px;\n",
              "    }\n",
              "\n",
              "    .colab-df-convert {\n",
              "      background-color: #E8F0FE;\n",
              "      border: none;\n",
              "      border-radius: 50%;\n",
              "      cursor: pointer;\n",
              "      display: none;\n",
              "      fill: #1967D2;\n",
              "      height: 32px;\n",
              "      padding: 0 0 0 0;\n",
              "      width: 32px;\n",
              "    }\n",
              "\n",
              "    .colab-df-convert:hover {\n",
              "      background-color: #E2EBFA;\n",
              "      box-shadow: 0px 1px 2px rgba(60, 64, 67, 0.3), 0px 1px 3px 1px rgba(60, 64, 67, 0.15);\n",
              "      fill: #174EA6;\n",
              "    }\n",
              "\n",
              "    .colab-df-buttons div {\n",
              "      margin-bottom: 4px;\n",
              "    }\n",
              "\n",
              "    [theme=dark] .colab-df-convert {\n",
              "      background-color: #3B4455;\n",
              "      fill: #D2E3FC;\n",
              "    }\n",
              "\n",
              "    [theme=dark] .colab-df-convert:hover {\n",
              "      background-color: #434B5C;\n",
              "      box-shadow: 0px 1px 3px 1px rgba(0, 0, 0, 0.15);\n",
              "      filter: drop-shadow(0px 1px 2px rgba(0, 0, 0, 0.3));\n",
              "      fill: #FFFFFF;\n",
              "    }\n",
              "  </style>\n",
              "\n",
              "    <script>\n",
              "      const buttonEl =\n",
              "        document.querySelector('#df-1ede3e4d-eeea-4c46-bb73-0987a3e312fb button.colab-df-convert');\n",
              "      buttonEl.style.display =\n",
              "        google.colab.kernel.accessAllowed ? 'block' : 'none';\n",
              "\n",
              "      async function convertToInteractive(key) {\n",
              "        const element = document.querySelector('#df-1ede3e4d-eeea-4c46-bb73-0987a3e312fb');\n",
              "        const dataTable =\n",
              "          await google.colab.kernel.invokeFunction('convertToInteractive',\n",
              "                                                    [key], {});\n",
              "        if (!dataTable) return;\n",
              "\n",
              "        const docLinkHtml = 'Like what you see? Visit the ' +\n",
              "          '<a target=\"_blank\" href=https://colab.research.google.com/notebooks/data_table.ipynb>data table notebook</a>'\n",
              "          + ' to learn more about interactive tables.';\n",
              "        element.innerHTML = '';\n",
              "        dataTable['output_type'] = 'display_data';\n",
              "        await google.colab.output.renderOutput(dataTable, element);\n",
              "        const docLink = document.createElement('div');\n",
              "        docLink.innerHTML = docLinkHtml;\n",
              "        element.appendChild(docLink);\n",
              "      }\n",
              "    </script>\n",
              "  </div>\n",
              "\n",
              "\n",
              "    </div>\n",
              "  </div>\n"
            ],
            "application/vnd.google.colaboratory.intrinsic+json": {
              "type": "dataframe",
              "repr_error": "Out of range float values are not JSON compliant: nan"
            }
          },
          "metadata": {},
          "execution_count": 899
        }
      ]
    }
  ]
}